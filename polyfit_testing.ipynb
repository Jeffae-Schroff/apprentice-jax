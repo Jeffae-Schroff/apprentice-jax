{
 "cells": [
  {
   "cell_type": "markdown",
   "metadata": {},
   "source": [
    "Overall, scatters should be close to the dotted line nominal=surrogate, printed numbers should all be zero. If the tests pass, I'm pretty sure Polyfit is working."
   ]
  },
  {
   "cell_type": "markdown",
   "metadata": {},
   "source": [
    "Test fitting from h5, output to npz"
   ]
  },
  {
   "cell_type": "code",
   "execution_count": 1,
   "metadata": {},
   "outputs": [
    {
     "name": "stdout",
     "output_type": "stream",
     "text": [
      "['/func0#0', '/func0#1', '/func0#2', '/func0#3', '/func0#4', '/func0#5', '/func0#6', '/func0#7', '/func0#8', '/func0#9', '/func0#10', '/func0#11', '/func0#12', '/func0#13', '/func0#14', '/func0#15', '/func0#16', '/func0#17', '/func0#18', '/func0#19', '/func1#0', '/func1#1', '/func1#2', '/func1#3', '/func1#4', '/func1#5', '/func1#6', '/func1#7', '/func1#8', '/func1#9', '/func1#10', '/func1#11', '/func1#12', '/func1#13', '/func1#14', '/func1#15', '/func1#16', '/func1#17', '/func1#18', '/func1#19']\n",
      "[None, None, None, None, None, None, None, None, None, None, None, None, None, None, None, None, None, None, None, None, None, None, None, None, None, None, None, None, None, None, None, None, None, None, None, None, None, None, None, None]\n"
     ]
    },
    {
     "ename": "TypeError",
     "evalue": "list indices must be integers or slices, not str",
     "output_type": "error",
     "traceback": [
      "\u001b[0;31m---------------------------------------------------------------------------\u001b[0m",
      "\u001b[0;31mTypeError\u001b[0m                                 Traceback (most recent call last)",
      "\u001b[1;32m/home/jeffae/apprentice-jax/polyfit_testing.ipynb Cell 3\u001b[0m in \u001b[0;36m<cell line: 4>\u001b[0;34m()\u001b[0m\n\u001b[1;32m      <a href='vscode-notebook-cell://wsl%2Bubuntu-20.04/home/jeffae/apprentice-jax/polyfit_testing.ipynb#W2sdnNjb2RlLXJlbW90ZQ%3D%3D?line=0'>1</a>\u001b[0m \u001b[39mfrom\u001b[39;00m \u001b[39mpolyfit\u001b[39;00m \u001b[39mimport\u001b[39;00m Polyfit\n\u001b[1;32m      <a href='vscode-notebook-cell://wsl%2Bubuntu-20.04/home/jeffae/apprentice-jax/polyfit_testing.ipynb#W2sdnNjb2RlLXJlbW90ZQ%3D%3D?line=1'>2</a>\u001b[0m \u001b[39mimport\u001b[39;00m \u001b[39mmatplotlib\u001b[39;00m\u001b[39m.\u001b[39;00m\u001b[39mpyplot\u001b[39;00m \u001b[39mas\u001b[39;00m \u001b[39mplt\u001b[39;00m\n\u001b[0;32m----> <a href='vscode-notebook-cell://wsl%2Bubuntu-20.04/home/jeffae/apprentice-jax/polyfit_testing.ipynb#W2sdnNjb2RlLXJlbW90ZQ%3D%3D?line=3'>4</a>\u001b[0m dummy_fits \u001b[39m=\u001b[39m Polyfit(\u001b[39m'\u001b[39;49m\u001b[39mdummy_p_coeffs.npz\u001b[39;49m\u001b[39m'\u001b[39;49m, \u001b[39m'\u001b[39;49m\u001b[39mdummy_chi2res.npz\u001b[39;49m\u001b[39m'\u001b[39;49m, input_h5\u001b[39m=\u001b[39;49m\u001b[39m'\u001b[39;49m\u001b[39minputdata.h5\u001b[39;49m\u001b[39m'\u001b[39;49m, order\u001b[39m=\u001b[39;49m\u001b[39m3\u001b[39;49m, cov_npz \u001b[39m=\u001b[39;49m \u001b[39m'\u001b[39;49m\u001b[39mdummy_cov.npz\u001b[39;49m\u001b[39m'\u001b[39;49m)\n\u001b[1;32m      <a href='vscode-notebook-cell://wsl%2Bubuntu-20.04/home/jeffae/apprentice-jax/polyfit_testing.ipynb#W2sdnNjb2RlLXJlbW90ZQ%3D%3D?line=4'>5</a>\u001b[0m test_surrogate, chi2_ndf, res, cov \u001b[39m=\u001b[39m dummy_fits\u001b[39m.\u001b[39mget_surrogate_func(\u001b[39m'\u001b[39m\u001b[39m/func0#0\u001b[39m\u001b[39m'\u001b[39m)\n\u001b[1;32m      <a href='vscode-notebook-cell://wsl%2Bubuntu-20.04/home/jeffae/apprentice-jax/polyfit_testing.ipynb#W2sdnNjb2RlLXJlbW90ZQ%3D%3D?line=5'>6</a>\u001b[0m test_surrogate2, chi2_ndf2, res2, cov2\u001b[39m=\u001b[39m dummy_fits\u001b[39m.\u001b[39mget_surrogate_func(\u001b[39m1\u001b[39m)\n",
      "File \u001b[0;32m~/apprentice-jax/polyfit.py:50\u001b[0m, in \u001b[0;36mPolyfit.__init__\u001b[0;34m(self, p_coeffs_npz, chi2res_npz, **kwargs)\u001b[0m\n\u001b[1;32m     48\u001b[0m bin_name, bin_number \u001b[39m=\u001b[39m bin_id\u001b[39m.\u001b[39msplit(\u001b[39m'\u001b[39m\u001b[39m#\u001b[39m\u001b[39m'\u001b[39m)[\u001b[39m0\u001b[39m], \u001b[39mint\u001b[39m(bin_id\u001b[39m.\u001b[39msplit(\u001b[39m'\u001b[39m\u001b[39m#\u001b[39m\u001b[39m'\u001b[39m)[\u001b[39m1\u001b[39m])\n\u001b[1;32m     49\u001b[0m X \u001b[39m=\u001b[39m jnp\u001b[39m.\u001b[39marray(f[\u001b[39m'\u001b[39m\u001b[39mparams\u001b[39m\u001b[39m'\u001b[39m][:], dtype\u001b[39m=\u001b[39mjnp\u001b[39m.\u001b[39mfloat64)\n\u001b[0;32m---> 50\u001b[0m Y \u001b[39m=\u001b[39m jnp\u001b[39m.\u001b[39marray(f[\u001b[39m'\u001b[39m\u001b[39mvalues\u001b[39m\u001b[39m'\u001b[39m][\u001b[39mself\u001b[39;49m\u001b[39m.\u001b[39;49mindex[bin_name][\u001b[39mint\u001b[39m(bin_number)]])\n\u001b[1;32m     51\u001b[0m VM \u001b[39m=\u001b[39m \u001b[39mself\u001b[39m\u001b[39m.\u001b[39mvandermonde_jax(X, \u001b[39mself\u001b[39m\u001b[39m.\u001b[39morder)\n\u001b[1;32m     53\u001b[0m \u001b[39m#polynomialapproximation.coeffsolve2 code\u001b[39;00m\n",
      "\u001b[0;31mTypeError\u001b[0m: list indices must be integers or slices, not str"
     ]
    }
   ],
   "source": [
    "from polyfit import Polyfit\n",
    "import matplotlib.pyplot as plt\n",
    "\n",
    "dummy_fits = Polyfit('dummy_p_coeffs.npz', 'dummy_chi2res.npz', input_h5='inputdata.h5', order=3, cov_npz = 'dummy_cov.npz')\n",
    "test_surrogate, chi2_ndf, res, cov = dummy_fits.get_surrogate_func('/func0#0')\n",
    "test_surrogate2, chi2_ndf2, res2, cov2= dummy_fits.get_surrogate_func(1)\n",
    "\n",
    "X,Y = dummy_fits.get_XY('/func0#0')\n",
    "fig, ax = plt.subplots()\n",
    "plt.scatter(Y, test_surrogate(X))\n",
    "plt.title('func0#0')\n",
    "plt.xlabel('surrogate')\n",
    "plt.ylabel('nominal')\n",
    "ax.autoscale(tight=True)\n",
    "xlim = ax.get_xlim()\n",
    "plt.plot(xlim, xlim, 'k--')\n",
    "\n",
    "plt.figure()\n",
    "X1,Y1 = dummy_fits.get_XY('/func0#1')\n",
    "fig, ax = plt.subplots()\n",
    "plt.scatter(Y1, test_surrogate2(X))\n",
    "plt.title('func0#1')\n",
    "plt.xlabel('surrogate')\n",
    "plt.ylabel('nominal')\n",
    "ax.autoscale(tight=True)\n",
    "xlim = ax.get_xlim()\n",
    "plt.plot(xlim, xlim, 'k--')\n"
   ]
  },
  {
   "cell_type": "markdown",
   "metadata": {},
   "source": [
    "Test loading from file, uses X,Y from above to test loaded surrogate"
   ]
  },
  {
   "cell_type": "code",
   "execution_count": null,
   "metadata": {},
   "outputs": [
    {
     "name": "stdout",
     "output_type": "stream",
     "text": [
      "(40, 10)\n",
      "0.0\n",
      "[0.]\n",
      "[[0. 0. 0. 0. 0. 0. 0. 0. 0. 0.]\n",
      " [0. 0. 0. 0. 0. 0. 0. 0. 0. 0.]\n",
      " [0. 0. 0. 0. 0. 0. 0. 0. 0. 0.]\n",
      " [0. 0. 0. 0. 0. 0. 0. 0. 0. 0.]\n",
      " [0. 0. 0. 0. 0. 0. 0. 0. 0. 0.]\n",
      " [0. 0. 0. 0. 0. 0. 0. 0. 0. 0.]\n",
      " [0. 0. 0. 0. 0. 0. 0. 0. 0. 0.]\n",
      " [0. 0. 0. 0. 0. 0. 0. 0. 0. 0.]\n",
      " [0. 0. 0. 0. 0. 0. 0. 0. 0. 0.]\n",
      " [0. 0. 0. 0. 0. 0. 0. 0. 0. 0.]]\n"
     ]
    },
    {
     "data": {
      "text/plain": [
       "[<matplotlib.lines.Line2D at 0x7ff56c6c5dc0>]"
      ]
     },
     "execution_count": 2,
     "metadata": {},
     "output_type": "execute_result"
    },
    {
     "data": {
      "image/png": "[encoded data removed]",
      "text/plain": [
       "<Figure size 432x288 with 1 Axes>"
      ]
     },
     "metadata": {
      "needs_background": "light"
     },
     "output_type": "display_data"
    }
   ],
   "source": [
    "from polyfit import Polyfit\n",
    "import matplotlib.pyplot as plt\n",
    "\n",
    "dummy_fits = Polyfit('dummy_pceoffs.npz', 'dummy_chi2res.npz', cov_npz = 'dummy_cov.npz')\n",
    "test_surrogate3, chi2_ndf_3, res3, cov3 = dummy_fits.get_surrogate_func('/func0#0')\n",
    "\n",
    "print(chi2_ndf-chi2_ndf_3)\n",
    "print(res-res3)\n",
    "print(cov-cov3)\n",
    "\n",
    "fig, ax = plt.subplots()\n",
    "plt.scatter(Y, test_surrogate(X))\n",
    "plt.title('func0#0')\n",
    "plt.xlabel('surrogate')\n",
    "plt.ylabel('nominal')\n",
    "ax.autoscale(tight=True)\n",
    "xlim = ax.get_xlim()\n",
    "plt.plot(xlim, xlim, 'k--')"
   ]
  }
 ],
 "metadata": {
  "kernelspec": {
   "display_name": "Python 3.8.10 64-bit",
   "language": "python",
   "name": "python3"
  },
  "language_info": {
   "codemirror_mode": {
    "name": "ipython",
    "version": 3
   },
   "file_extension": ".py",
   "mimetype": "text/x-python",
   "name": "python",
   "nbconvert_exporter": "python",
   "pygments_lexer": "ipython3",
   "version": "3.8.10"
  },
  "orig_nbformat": 4,
  "vscode": {
   "interpreter": {
    "hash": "916dbcbb3f70747c44a77c7bcd40155683ae19c65e1c03b4aa3499c5328201f1"
   }
  }
 },
 "nbformat": 4,
 "nbformat_minor": 2
}
