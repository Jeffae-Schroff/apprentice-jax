{
 "cells": [
  {
   "cell_type": "code",
   "execution_count": 16,
   "metadata": {},
   "outputs": [
    {
     "name": "stdout",
     "output_type": "stream",
     "text": [
      "Fitting observables:  ['/func0', '/func1']\n"
     ]
    },
    {
     "data": {
      "text/html": [
       "\n",
       "<style>\n",
       "    /* Turns off some styling */\n",
       "    progress {\n",
       "        /* gets rid of default border in Firefox and Opera. */\n",
       "        border: none;\n",
       "        /* Needs to be in here for Safari polyfill so background images work as expected. */\n",
       "        background-size: auto;\n",
       "    }\n",
       "    progress:not([value]), progress:not([value])::-webkit-progress-bar {\n",
       "        background: repeating-linear-gradient(45deg, #7e7e7e, #7e7e7e 10px, #5c5c5c 10px, #5c5c5c 20px);\n",
       "    }\n",
       "    .progress-bar-interrupted, .progress-bar-interrupted::-webkit-progress-bar {\n",
       "        background: #F44336;\n",
       "    }\n",
       "</style>\n"
      ],
      "text/plain": [
       "<IPython.core.display.HTML object>"
      ]
     },
     "metadata": {},
     "output_type": "display_data"
    },
    {
     "data": {
      "text/html": [
       "\n",
       "    <div>\n",
       "      <progress value='41' class='' max='41' style='width:300px; height:20px; vertical-align: middle;'></progress>\n",
       "      100.00% [41/41 00:00&lt;00:00 logp = -97,451, ||grad|| = 3.009e+07]\n",
       "    </div>\n",
       "    "
      ],
      "text/plain": [
       "<IPython.core.display.HTML object>"
      ]
     },
     "metadata": {},
     "output_type": "display_data"
    },
    {
     "name": "stdout",
     "output_type": "stream",
     "text": [
      "\n"
     ]
    },
    {
     "name": "stderr",
     "output_type": "stream",
     "text": [
      "Only 40 samples in chain.\n",
      "WARNING:pymc:Only 40 samples in chain.\n",
      "Multiprocess sampling (4 chains in 4 jobs)\n",
      "INFO:pymc:Multiprocess sampling (4 chains in 4 jobs)\n",
      "NUTS: [params, true_coeff]\n",
      "INFO:pymc:NUTS: [params, true_coeff]\n"
     ]
    },
    {
     "data": {
      "text/html": [
       "\n",
       "<style>\n",
       "    /* Turns off some styling */\n",
       "    progress {\n",
       "        /* gets rid of default border in Firefox and Opera. */\n",
       "        border: none;\n",
       "        /* Needs to be in here for Safari polyfill so background images work as expected. */\n",
       "        background-size: auto;\n",
       "    }\n",
       "    progress:not([value]), progress:not([value])::-webkit-progress-bar {\n",
       "        background: repeating-linear-gradient(45deg, #7e7e7e, #7e7e7e 10px, #5c5c5c 10px, #5c5c5c 20px);\n",
       "    }\n",
       "    .progress-bar-interrupted, .progress-bar-interrupted::-webkit-progress-bar {\n",
       "        background: #F44336;\n",
       "    }\n",
       "</style>\n"
      ],
      "text/plain": [
       "<IPython.core.display.HTML object>"
      ]
     },
     "metadata": {},
     "output_type": "display_data"
    },
    {
     "data": {
      "text/html": [
       "\n",
       "    <div>\n",
       "      <progress value='560' class='' max='560' style='width:300px; height:20px; vertical-align: middle;'></progress>\n",
       "      100.00% [560/560 10:53&lt;00:00 Sampling 4 chains, 0 divergences]\n",
       "    </div>\n",
       "    "
      ],
      "text/plain": [
       "<IPython.core.display.HTML object>"
      ]
     },
     "metadata": {},
     "output_type": "display_data"
    },
    {
     "name": "stderr",
     "output_type": "stream",
     "text": [
      "Sampling 4 chains for 100 tune and 40 draw iterations (400 + 160 draws total) took 654 seconds.\n",
      "INFO:pymc:Sampling 4 chains for 100 tune and 40 draw iterations (400 + 160 draws total) took 654 seconds.\n",
      "/tmp/ipykernel_14982/2015817217.py:41: UserWarning: The number of samples is too small to check convergence reliably.\n",
      "  trace = pm.sample(40, step, tune=100, initvals=map_start)\n"
     ]
    }
   ],
   "source": [
    "import pymc as pm\n",
    "import arviz as az\n",
    "import jax.numpy as jnp\n",
    "import numpy as np\n",
    "import aesara.tensor as at\n",
    "from timing import timing_van_jax, comp_gen_D\n",
    "from modules.polyfit import Polyfit\n",
    "import json\n",
    "\n",
    "dummy_fits = Polyfit('dummy_data/fits.npz', input_h5='dummy_data/inputdata.h5', order=3, covariance=True)\n",
    "coeff = np.array(dummy_fits.p_coeffs)\n",
    "cov = np.array(dummy_fits.cov)\n",
    "sd_coeff = np.sqrt(np.diagonal(np.array(cov), axis1=1, axis2=2))\n",
    "sd_coeff[np.where(sd_coeff==0)]=0.00000001\n",
    "deg=3\n",
    "\n",
    "#Import target data\n",
    "with open(\"dummy_data/target_data.json\", 'r') as f:\n",
    "    target_data = json.loads(f.read())\n",
    "target_values = np.array([target_data[k][0] for k in target_data])\n",
    "target_error = np.array([target_data[k][1] for k in target_data])\n",
    "target_error[np.where(target_error==0)]=0.00000001\n",
    "\n",
    "\n",
    "param_guess = np.array([2, -1])\n",
    "comp = np.array(comp_gen_D(param_guess.size, deg))\n",
    "\n",
    "\n",
    "with pm.Model() as model:\n",
    "    p = pm.Normal('params', param_guess, sigma=5, shape=np.shape(param_guess))\n",
    "    #p_poly = pm.Deterministic('p_poly', tt.prod(tt.power(p, comp[:, np.newaxis]), axis=2, no_zeros_in_input=True))\n",
    "    \n",
    "    true_coeff = pm.Normal('true_coeff', 0, sigma=20, shape=np.shape(coeff))\n",
    "    likelihood_coeff = pm.Normal('x', mu=true_coeff, sigma=sd_coeff, observed=coeff)\n",
    "\n",
    "    true_y = at.dot(true_coeff, at.prod(at.power(p, comp[:, np.newaxis]), axis=2, no_zeros_in_input=True)).flatten()\n",
    "    likelihood_y = pm.Normal('y', mu=true_y, sigma=target_error, observed=target_values)\n",
    "\n",
    "    map_start = pm.find_MAP()\n",
    "    step = pm.NUTS(max_treedepth=20, scaling=map_start)\n",
    "    trace = pm.sample(40, step, tune=100, initvals=map_start)\n",
    "\n",
    "    \n",
    "\n"
   ]
  },
  {
   "cell_type": "code",
   "execution_count": 17,
   "metadata": {},
   "outputs": [
    {
     "data": {
      "image/png": "[encoded data removed]",
      "text/plain": [
       "<Figure size 1200x200 with 2 Axes>"
      ]
     },
     "metadata": {},
     "output_type": "display_data"
    }
   ],
   "source": [
    "with model:\n",
    "    az.plot_trace(trace, var_names='params')\n",
    "    #az.plot_trace(trace, var_names='true_coeff')"
   ]
  },
  {
   "cell_type": "code",
   "execution_count": 19,
   "metadata": {},
   "outputs": [
    {
     "data": {
      "text/html": [
       "<div>\n",
       "<style scoped>\n",
       "    .dataframe tbody tr th:only-of-type {\n",
       "        vertical-align: middle;\n",
       "    }\n",
       "\n",
       "    .dataframe tbody tr th {\n",
       "        vertical-align: top;\n",
       "    }\n",
       "\n",
       "    .dataframe thead th {\n",
       "        text-align: right;\n",
       "    }\n",
       "</style>\n",
       "<table border=\"1\" class=\"dataframe\">\n",
       "  <thead>\n",
       "    <tr style=\"text-align: right;\">\n",
       "      <th></th>\n",
       "      <th>mean</th>\n",
       "      <th>sd</th>\n",
       "      <th>hdi_3%</th>\n",
       "      <th>hdi_97%</th>\n",
       "      <th>mcse_mean</th>\n",
       "      <th>mcse_sd</th>\n",
       "      <th>ess_bulk</th>\n",
       "      <th>ess_tail</th>\n",
       "      <th>r_hat</th>\n",
       "    </tr>\n",
       "  </thead>\n",
       "  <tbody>\n",
       "    <tr>\n",
       "      <th>params[0]</th>\n",
       "      <td>0.825</td>\n",
       "      <td>1.062</td>\n",
       "      <td>-0.607</td>\n",
       "      <td>2.045</td>\n",
       "      <td>0.369</td>\n",
       "      <td>0.275</td>\n",
       "      <td>13.0</td>\n",
       "      <td>14.0</td>\n",
       "      <td>1.48</td>\n",
       "    </tr>\n",
       "    <tr>\n",
       "      <th>params[1]</th>\n",
       "      <td>-0.728</td>\n",
       "      <td>0.273</td>\n",
       "      <td>-1.023</td>\n",
       "      <td>-0.296</td>\n",
       "      <td>0.101</td>\n",
       "      <td>0.075</td>\n",
       "      <td>7.0</td>\n",
       "      <td>14.0</td>\n",
       "      <td>2.49</td>\n",
       "    </tr>\n",
       "    <tr>\n",
       "      <th>true_coeff[0, 0]</th>\n",
       "      <td>7.432</td>\n",
       "      <td>14.616</td>\n",
       "      <td>-26.271</td>\n",
       "      <td>29.108</td>\n",
       "      <td>0.876</td>\n",
       "      <td>0.908</td>\n",
       "      <td>353.0</td>\n",
       "      <td>182.0</td>\n",
       "      <td>1.05</td>\n",
       "    </tr>\n",
       "    <tr>\n",
       "      <th>true_coeff[0, 1]</th>\n",
       "      <td>1.638</td>\n",
       "      <td>17.934</td>\n",
       "      <td>-28.942</td>\n",
       "      <td>35.442</td>\n",
       "      <td>0.955</td>\n",
       "      <td>1.689</td>\n",
       "      <td>353.0</td>\n",
       "      <td>150.0</td>\n",
       "      <td>1.10</td>\n",
       "    </tr>\n",
       "    <tr>\n",
       "      <th>true_coeff[0, 2]</th>\n",
       "      <td>-13.310</td>\n",
       "      <td>15.390</td>\n",
       "      <td>-40.842</td>\n",
       "      <td>15.835</td>\n",
       "      <td>1.111</td>\n",
       "      <td>0.908</td>\n",
       "      <td>203.0</td>\n",
       "      <td>101.0</td>\n",
       "      <td>1.01</td>\n",
       "    </tr>\n",
       "    <tr>\n",
       "      <th>...</th>\n",
       "      <td>...</td>\n",
       "      <td>...</td>\n",
       "      <td>...</td>\n",
       "      <td>...</td>\n",
       "      <td>...</td>\n",
       "      <td>...</td>\n",
       "      <td>...</td>\n",
       "      <td>...</td>\n",
       "      <td>...</td>\n",
       "    </tr>\n",
       "    <tr>\n",
       "      <th>true_coeff[39, 5]</th>\n",
       "      <td>0.000</td>\n",
       "      <td>0.000</td>\n",
       "      <td>-0.000</td>\n",
       "      <td>0.000</td>\n",
       "      <td>0.000</td>\n",
       "      <td>0.000</td>\n",
       "      <td>162.0</td>\n",
       "      <td>95.0</td>\n",
       "      <td>1.04</td>\n",
       "    </tr>\n",
       "    <tr>\n",
       "      <th>true_coeff[39, 6]</th>\n",
       "      <td>0.000</td>\n",
       "      <td>0.000</td>\n",
       "      <td>-0.000</td>\n",
       "      <td>0.000</td>\n",
       "      <td>0.000</td>\n",
       "      <td>0.000</td>\n",
       "      <td>292.0</td>\n",
       "      <td>56.0</td>\n",
       "      <td>1.01</td>\n",
       "    </tr>\n",
       "    <tr>\n",
       "      <th>true_coeff[39, 7]</th>\n",
       "      <td>-0.000</td>\n",
       "      <td>0.000</td>\n",
       "      <td>-0.000</td>\n",
       "      <td>0.000</td>\n",
       "      <td>0.000</td>\n",
       "      <td>0.000</td>\n",
       "      <td>145.0</td>\n",
       "      <td>119.0</td>\n",
       "      <td>1.03</td>\n",
       "    </tr>\n",
       "    <tr>\n",
       "      <th>true_coeff[39, 8]</th>\n",
       "      <td>0.000</td>\n",
       "      <td>0.000</td>\n",
       "      <td>-0.000</td>\n",
       "      <td>0.000</td>\n",
       "      <td>0.000</td>\n",
       "      <td>0.000</td>\n",
       "      <td>121.0</td>\n",
       "      <td>63.0</td>\n",
       "      <td>1.01</td>\n",
       "    </tr>\n",
       "    <tr>\n",
       "      <th>true_coeff[39, 9]</th>\n",
       "      <td>0.000</td>\n",
       "      <td>0.000</td>\n",
       "      <td>-0.000</td>\n",
       "      <td>0.000</td>\n",
       "      <td>0.000</td>\n",
       "      <td>0.000</td>\n",
       "      <td>182.0</td>\n",
       "      <td>109.0</td>\n",
       "      <td>1.01</td>\n",
       "    </tr>\n",
       "  </tbody>\n",
       "</table>\n",
       "<p>402 rows × 9 columns</p>\n",
       "</div>"
      ],
      "text/plain": [
       "                     mean      sd  hdi_3%  hdi_97%  mcse_mean  mcse_sd  \\\n",
       "params[0]           0.825   1.062  -0.607    2.045      0.369    0.275   \n",
       "params[1]          -0.728   0.273  -1.023   -0.296      0.101    0.075   \n",
       "true_coeff[0, 0]    7.432  14.616 -26.271   29.108      0.876    0.908   \n",
       "true_coeff[0, 1]    1.638  17.934 -28.942   35.442      0.955    1.689   \n",
       "true_coeff[0, 2]  -13.310  15.390 -40.842   15.835      1.111    0.908   \n",
       "...                   ...     ...     ...      ...        ...      ...   \n",
       "true_coeff[39, 5]   0.000   0.000  -0.000    0.000      0.000    0.000   \n",
       "true_coeff[39, 6]   0.000   0.000  -0.000    0.000      0.000    0.000   \n",
       "true_coeff[39, 7]  -0.000   0.000  -0.000    0.000      0.000    0.000   \n",
       "true_coeff[39, 8]   0.000   0.000  -0.000    0.000      0.000    0.000   \n",
       "true_coeff[39, 9]   0.000   0.000  -0.000    0.000      0.000    0.000   \n",
       "\n",
       "                   ess_bulk  ess_tail  r_hat  \n",
       "params[0]              13.0      14.0   1.48  \n",
       "params[1]               7.0      14.0   2.49  \n",
       "true_coeff[0, 0]      353.0     182.0   1.05  \n",
       "true_coeff[0, 1]      353.0     150.0   1.10  \n",
       "true_coeff[0, 2]      203.0     101.0   1.01  \n",
       "...                     ...       ...    ...  \n",
       "true_coeff[39, 5]     162.0      95.0   1.04  \n",
       "true_coeff[39, 6]     292.0      56.0   1.01  \n",
       "true_coeff[39, 7]     145.0     119.0   1.03  \n",
       "true_coeff[39, 8]     121.0      63.0   1.01  \n",
       "true_coeff[39, 9]     182.0     109.0   1.01  \n",
       "\n",
       "[402 rows x 9 columns]"
      ]
     },
     "execution_count": 19,
     "metadata": {},
     "output_type": "execute_result"
    }
   ],
   "source": [
    "\n",
    "\"\"\"chain_count = trace.get_values('params').shape[0]\n",
    "y_pred_g = pm.sample_posterior_predictive(trace, samples=chain_count, model=model)\n",
    "data_spp = az.from_pymc3(trace=trace, posterior_predictive=y_pred_g)\n",
    "\n",
    "posterior_params = az.plot_posterior(data_spp, var_names='params', hdi_prob=.95, point_estimate='mean', textsize=20, round_to=4)\"\"\"\n",
    "az.summary(trace)"
   ]
  },
  {
   "cell_type": "code",
   "execution_count": 13,
   "metadata": {},
   "outputs": [
    {
     "data": {
      "text/plain": [
       "array([ 2.52016904e+00,  2.71289422e+00,  3.18039907e+00,  3.96657913e+00,\n",
       "        3.59322222e+00,  4.11549484e+00,  4.01689136e+00,  3.30343798e+00,\n",
       "        2.63367937e+00,  2.56086647e+00,  1.87919754e+00,  1.40906992e+00,\n",
       "        1.03110195e+00,  7.16870738e-01,  4.83734123e-01,  2.50959737e-01,\n",
       "        1.88127676e-01,  9.34527835e-02,  5.28182149e-02,  2.31283209e-02,\n",
       "        2.67967415e+00,  3.86748408e+00,  4.47718448e+00,  4.72478416e+00,\n",
       "        6.92252465e+00,  5.75558934e+00,  5.33826511e+00,  3.62213325e+00,\n",
       "        2.26485923e+00,  1.12976266e+00,  5.77058655e-01,  1.77958655e-01,\n",
       "        4.23533946e-02,  8.54697609e-03,  2.33694203e-03,  3.43442150e-04,\n",
       "       -3.37218607e-06,  7.15163784e-05,  0.00000000e+00,  0.00000000e+00])"
      ]
     },
     "execution_count": 13,
     "metadata": {},
     "output_type": "execute_result"
    }
   ],
   "source": [
    "p = np.array([1.7, -1.1])\n",
    "ppoly = np.prod(np.power(p, comp[:, np.newaxis]), axis=2)\n",
    "\n",
    "y_test = np.dot(coeff, ppoly).flatten()\n",
    "y_test"
   ]
  },
  {
   "cell_type": "code",
   "execution_count": 14,
   "metadata": {},
   "outputs": [
    {
     "data": {
      "text/plain": [
       "array([ 2.52016904e+00,  2.71289422e+00,  3.18039907e+00,  3.96657913e+00,\n",
       "        3.59322222e+00,  4.11549484e+00,  4.01689136e+00,  3.30343798e+00,\n",
       "        2.63367937e+00,  2.56086647e+00,  1.87919754e+00,  1.40906992e+00,\n",
       "        1.03110195e+00,  7.16870738e-01,  4.83734123e-01,  2.50959737e-01,\n",
       "        1.88127676e-01,  9.34527835e-02,  5.28182149e-02,  2.31283209e-02,\n",
       "        2.67967415e+00,  3.86748408e+00,  4.47718448e+00,  4.72478416e+00,\n",
       "        6.92252465e+00,  5.75558934e+00,  5.33826511e+00,  3.62213325e+00,\n",
       "        2.26485923e+00,  1.12976266e+00,  5.77058655e-01,  1.77958655e-01,\n",
       "        4.23533946e-02,  8.54697609e-03,  2.33694203e-03,  3.43442150e-04,\n",
       "       -3.37218607e-06,  7.15163784e-05,  0.00000000e+00,  0.00000000e+00])"
      ]
     },
     "execution_count": 14,
     "metadata": {},
     "output_type": "execute_result"
    }
   ],
   "source": [
    "from aesara import function\n",
    "p = at.vector('p')\n",
    "z_test = at.dot(coeff, at.prod(at.power(p, comp[:, np.newaxis]), axis=2, no_zeros_in_input=True)).flatten()\n",
    "\n",
    "f = function([p], z_test)\n",
    "f(np.array([1.7, -1.1]))"
   ]
  }
 ],
 "metadata": {
  "kernelspec": {
   "display_name": "Python 3.8.10 64-bit",
   "language": "python",
   "name": "python3"
  },
  "language_info": {
   "codemirror_mode": {
    "name": "ipython",
    "version": 3
   },
   "file_extension": ".py",
   "mimetype": "text/x-python",
   "name": "python",
   "nbconvert_exporter": "python",
   "pygments_lexer": "ipython3",
   "version": "3.8.10"
  },
  "orig_nbformat": 4,
  "vscode": {
   "interpreter": {
    "hash": "916dbcbb3f70747c44a77c7bcd40155683ae19c65e1c03b4aa3499c5328201f1"
   }
  }
 },
 "nbformat": 4,
 "nbformat_minor": 2
}
