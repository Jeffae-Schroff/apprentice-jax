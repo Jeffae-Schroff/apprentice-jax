{
 "cells": [
  {
   "cell_type": "code",
   "execution_count": 57,
   "metadata": {},
   "outputs": [
    {
     "name": "stdout",
     "output_type": "stream",
     "text": [
      "Fitting bins: \n",
      "/func0#0, /func0#1, /func0#2, /func0#3, /func0#4, /func0#5, /func0#6, /func0#7, /func0#8, /func0#9, /func0#10, /func0#11, /func0#12, /func0#13, /func0#14, /func0#15, /func0#16, /func0#17, /func0#18, /func0#19, /func1#0, /func1#1, /func1#2, /func1#3, /func1#4, /func1#5, /func1#6, /func1#7, /func1#8, /func1#9, /func1#10, /func1#11, /func1#12, /func1#13, /func1#14, /func1#15, /func1#16, /func1#17, /func1#18, /func1#19,  inner loop done!\n"
     ]
    },
    {
     "name": "stderr",
     "output_type": "stream",
     "text": [
      "Only 100 samples in chain.\n",
      "WARNING:pymc:Only 100 samples in chain.\n",
      "Multiprocess sampling (4 chains in 4 jobs)\n",
      "INFO:pymc:Multiprocess sampling (4 chains in 4 jobs)\n",
      "NUTS: [params, true_coeff]\n",
      "INFO:pymc:NUTS: [params, true_coeff]\n"
     ]
    },
    {
     "data": {
      "text/html": [
       "\n",
       "<style>\n",
       "    /* Turns off some styling */\n",
       "    progress {\n",
       "        /* gets rid of default border in Firefox and Opera. */\n",
       "        border: none;\n",
       "        /* Needs to be in here for Safari polyfill so background images work as expected. */\n",
       "        background-size: auto;\n",
       "    }\n",
       "    progress:not([value]), progress:not([value])::-webkit-progress-bar {\n",
       "        background: repeating-linear-gradient(45deg, #7e7e7e, #7e7e7e 10px, #5c5c5c 10px, #5c5c5c 20px);\n",
       "    }\n",
       "    .progress-bar-interrupted, .progress-bar-interrupted::-webkit-progress-bar {\n",
       "        background: #F44336;\n",
       "    }\n",
       "</style>\n"
      ],
      "text/plain": [
       "<IPython.core.display.HTML object>"
      ]
     },
     "metadata": {},
     "output_type": "display_data"
    },
    {
     "data": {
      "text/html": [
       "\n",
       "    <div>\n",
       "      <progress value='800' class='' max='800' style='width:300px; height:20px; vertical-align: middle;'></progress>\n",
       "      100.00% [800/800 11:11&lt;00:00 Sampling 4 chains, 0 divergences]\n",
       "    </div>\n",
       "    "
      ],
      "text/plain": [
       "<IPython.core.display.HTML object>"
      ]
     },
     "metadata": {},
     "output_type": "display_data"
    },
    {
     "name": "stderr",
     "output_type": "stream",
     "text": [
      "Sampling 4 chains for 100 tune and 100 draw iterations (400 + 400 draws total) took 672 seconds.\n",
      "INFO:pymc:Sampling 4 chains for 100 tune and 100 draw iterations (400 + 400 draws total) took 672 seconds.\n"
     ]
    }
   ],
   "source": [
    "import pymc as pm\n",
    "import arviz as az\n",
    "import jax.numpy as jnp\n",
    "import numpy as np\n",
    "import aesara.tensor as at\n",
    "from timing import timing_van_jax, comp_gen_D\n",
    "from modules.polyfit import Polyfit\n",
    "import json\n",
    "\n",
    "dummy_fits = Polyfit('dummy_data/fits.npz', input_h5='dummy_data/inputdata.h5', order=3, covariance=True)\n",
    "coeff = np.array(dummy_fits.p_coeffs)\n",
    "cov = np.array(dummy_fits.cov)\n",
    "sd_coeff = np.sqrt(np.diagonal(np.array(cov), axis1=1, axis2=2))\n",
    "sd_coeff[np.where(sd_coeff==0)]=0.0001\n",
    "deg=3\n",
    "\n",
    "#Import target data\n",
    "with open(\"dummy_data/target_data.json\", 'r') as f:\n",
    "    target_data = json.loads(f.read())\n",
    "target_values = np.array([target_data[k][0] for k in target_data])\n",
    "target_error = np.array([target_data[k][1] for k in target_data])\n",
    "target_error[np.where(target_error==0)]=0.0001\n",
    "\n",
    "\n",
    "param_guess = np.array([1.44290955, -0.97476325])\n",
    "comp = np.array(comp_gen_D(param_guess.size, deg))\n",
    "\n",
    "\n",
    "with pm.Model() as model:\n",
    "    p = pm.Normal('params', param_guess, sigma=0.5, shape=np.shape(param_guess))\n",
    "    #p_poly = pm.Deterministic('p_poly', tt.prod(tt.power(p, comp[:, np.newaxis]), axis=2, no_zeros_in_input=True))\n",
    "    \n",
    "    true_coeff = pm.Normal('true_coeff', mu=0, sigma=20, shape=np.shape(coeff))\n",
    "    likelihood_coeff = pm.Normal('x', mu=true_coeff, sigma=sd_coeff, observed=coeff)\n",
    "\n",
    "    true_y = at.dot(true_coeff, at.prod(at.power(p, comp[:, np.newaxis]), axis=2, no_zeros_in_input=True).flatten())\n",
    "    likelihood_y = pm.Normal('y', mu=true_y, sigma=target_error, observed=target_values)\n",
    "\n",
    "    step = pm.NUTS(max_treedepth=15)\n",
    "    trace = pm.sample(100, step, tune=100)\n",
    "\n",
    "    \n",
    "\n"
   ]
  },
  {
   "cell_type": "code",
   "execution_count": 58,
   "metadata": {},
   "outputs": [
    {
     "data": {
      "image/png": "[encoded data removed]",
      "text/plain": [
       "<Figure size 1200x200 with 2 Axes>"
      ]
     },
     "metadata": {},
     "output_type": "display_data"
    }
   ],
   "source": [
    "with model:\n",
    "    az.plot_trace(trace, var_names='params')\n",
    "    #az.plot_trace(trace, var_names='true_coeff')"
   ]
  },
  {
   "cell_type": "code",
   "execution_count": 59,
   "metadata": {},
   "outputs": [
    {
     "data": {
      "text/html": [
       "<div>\n",
       "<style scoped>\n",
       "    .dataframe tbody tr th:only-of-type {\n",
       "        vertical-align: middle;\n",
       "    }\n",
       "\n",
       "    .dataframe tbody tr th {\n",
       "        vertical-align: top;\n",
       "    }\n",
       "\n",
       "    .dataframe thead th {\n",
       "        text-align: right;\n",
       "    }\n",
       "</style>\n",
       "<table border=\"1\" class=\"dataframe\">\n",
       "  <thead>\n",
       "    <tr style=\"text-align: right;\">\n",
       "      <th></th>\n",
       "      <th>mean</th>\n",
       "      <th>sd</th>\n",
       "      <th>hdi_3%</th>\n",
       "      <th>hdi_97%</th>\n",
       "      <th>mcse_mean</th>\n",
       "      <th>mcse_sd</th>\n",
       "      <th>ess_bulk</th>\n",
       "      <th>ess_tail</th>\n",
       "      <th>r_hat</th>\n",
       "    </tr>\n",
       "  </thead>\n",
       "  <tbody>\n",
       "    <tr>\n",
       "      <th>params[0]</th>\n",
       "      <td>1.443</td>\n",
       "      <td>0.000</td>\n",
       "      <td>1.443</td>\n",
       "      <td>1.443</td>\n",
       "      <td>0.0</td>\n",
       "      <td>0.0</td>\n",
       "      <td>5.0</td>\n",
       "      <td>14.0</td>\n",
       "      <td>2.40</td>\n",
       "    </tr>\n",
       "    <tr>\n",
       "      <th>params[1]</th>\n",
       "      <td>-0.975</td>\n",
       "      <td>0.001</td>\n",
       "      <td>-0.976</td>\n",
       "      <td>-0.974</td>\n",
       "      <td>0.0</td>\n",
       "      <td>0.0</td>\n",
       "      <td>5.0</td>\n",
       "      <td>12.0</td>\n",
       "      <td>2.80</td>\n",
       "    </tr>\n",
       "    <tr>\n",
       "      <th>true_coeff[0, 0]</th>\n",
       "      <td>-0.000</td>\n",
       "      <td>0.000</td>\n",
       "      <td>-0.001</td>\n",
       "      <td>0.001</td>\n",
       "      <td>0.0</td>\n",
       "      <td>0.0</td>\n",
       "      <td>5.0</td>\n",
       "      <td>14.0</td>\n",
       "      <td>3.11</td>\n",
       "    </tr>\n",
       "    <tr>\n",
       "      <th>true_coeff[0, 1]</th>\n",
       "      <td>0.000</td>\n",
       "      <td>0.000</td>\n",
       "      <td>-0.000</td>\n",
       "      <td>0.000</td>\n",
       "      <td>0.0</td>\n",
       "      <td>0.0</td>\n",
       "      <td>7.0</td>\n",
       "      <td>12.0</td>\n",
       "      <td>1.76</td>\n",
       "    </tr>\n",
       "    <tr>\n",
       "      <th>true_coeff[0, 2]</th>\n",
       "      <td>0.000</td>\n",
       "      <td>0.000</td>\n",
       "      <td>-0.000</td>\n",
       "      <td>0.000</td>\n",
       "      <td>0.0</td>\n",
       "      <td>0.0</td>\n",
       "      <td>9.0</td>\n",
       "      <td>13.0</td>\n",
       "      <td>1.44</td>\n",
       "    </tr>\n",
       "    <tr>\n",
       "      <th>...</th>\n",
       "      <td>...</td>\n",
       "      <td>...</td>\n",
       "      <td>...</td>\n",
       "      <td>...</td>\n",
       "      <td>...</td>\n",
       "      <td>...</td>\n",
       "      <td>...</td>\n",
       "      <td>...</td>\n",
       "      <td>...</td>\n",
       "    </tr>\n",
       "    <tr>\n",
       "      <th>true_coeff[39, 5]</th>\n",
       "      <td>0.000</td>\n",
       "      <td>0.000</td>\n",
       "      <td>-0.000</td>\n",
       "      <td>0.000</td>\n",
       "      <td>0.0</td>\n",
       "      <td>0.0</td>\n",
       "      <td>428.0</td>\n",
       "      <td>199.0</td>\n",
       "      <td>1.01</td>\n",
       "    </tr>\n",
       "    <tr>\n",
       "      <th>true_coeff[39, 6]</th>\n",
       "      <td>0.000</td>\n",
       "      <td>0.000</td>\n",
       "      <td>-0.000</td>\n",
       "      <td>0.000</td>\n",
       "      <td>0.0</td>\n",
       "      <td>0.0</td>\n",
       "      <td>340.0</td>\n",
       "      <td>322.0</td>\n",
       "      <td>1.01</td>\n",
       "    </tr>\n",
       "    <tr>\n",
       "      <th>true_coeff[39, 7]</th>\n",
       "      <td>-0.000</td>\n",
       "      <td>0.000</td>\n",
       "      <td>-0.000</td>\n",
       "      <td>0.000</td>\n",
       "      <td>0.0</td>\n",
       "      <td>0.0</td>\n",
       "      <td>385.0</td>\n",
       "      <td>241.0</td>\n",
       "      <td>1.03</td>\n",
       "    </tr>\n",
       "    <tr>\n",
       "      <th>true_coeff[39, 8]</th>\n",
       "      <td>0.000</td>\n",
       "      <td>0.000</td>\n",
       "      <td>-0.000</td>\n",
       "      <td>0.000</td>\n",
       "      <td>0.0</td>\n",
       "      <td>0.0</td>\n",
       "      <td>477.0</td>\n",
       "      <td>289.0</td>\n",
       "      <td>1.00</td>\n",
       "    </tr>\n",
       "    <tr>\n",
       "      <th>true_coeff[39, 9]</th>\n",
       "      <td>-0.000</td>\n",
       "      <td>0.000</td>\n",
       "      <td>-0.000</td>\n",
       "      <td>0.000</td>\n",
       "      <td>0.0</td>\n",
       "      <td>0.0</td>\n",
       "      <td>422.0</td>\n",
       "      <td>269.0</td>\n",
       "      <td>1.00</td>\n",
       "    </tr>\n",
       "  </tbody>\n",
       "</table>\n",
       "<p>402 rows × 9 columns</p>\n",
       "</div>"
      ],
      "text/plain": [
       "                    mean     sd  hdi_3%  hdi_97%  mcse_mean  mcse_sd  \\\n",
       "params[0]          1.443  0.000   1.443    1.443        0.0      0.0   \n",
       "params[1]         -0.975  0.001  -0.976   -0.974        0.0      0.0   \n",
       "true_coeff[0, 0]  -0.000  0.000  -0.001    0.001        0.0      0.0   \n",
       "true_coeff[0, 1]   0.000  0.000  -0.000    0.000        0.0      0.0   \n",
       "true_coeff[0, 2]   0.000  0.000  -0.000    0.000        0.0      0.0   \n",
       "...                  ...    ...     ...      ...        ...      ...   \n",
       "true_coeff[39, 5]  0.000  0.000  -0.000    0.000        0.0      0.0   \n",
       "true_coeff[39, 6]  0.000  0.000  -0.000    0.000        0.0      0.0   \n",
       "true_coeff[39, 7] -0.000  0.000  -0.000    0.000        0.0      0.0   \n",
       "true_coeff[39, 8]  0.000  0.000  -0.000    0.000        0.0      0.0   \n",
       "true_coeff[39, 9] -0.000  0.000  -0.000    0.000        0.0      0.0   \n",
       "\n",
       "                   ess_bulk  ess_tail  r_hat  \n",
       "params[0]               5.0      14.0   2.40  \n",
       "params[1]               5.0      12.0   2.80  \n",
       "true_coeff[0, 0]        5.0      14.0   3.11  \n",
       "true_coeff[0, 1]        7.0      12.0   1.76  \n",
       "true_coeff[0, 2]        9.0      13.0   1.44  \n",
       "...                     ...       ...    ...  \n",
       "true_coeff[39, 5]     428.0     199.0   1.01  \n",
       "true_coeff[39, 6]     340.0     322.0   1.01  \n",
       "true_coeff[39, 7]     385.0     241.0   1.03  \n",
       "true_coeff[39, 8]     477.0     289.0   1.00  \n",
       "true_coeff[39, 9]     422.0     269.0   1.00  \n",
       "\n",
       "[402 rows x 9 columns]"
      ]
     },
     "execution_count": 59,
     "metadata": {},
     "output_type": "execute_result"
    }
   ],
   "source": [
    "\n",
    "\"\"\"chain_count = trace.get_values('params').shape[0]\n",
    "y_pred_g = pm.sample_posterior_predictive(trace, samples=chain_count, model=model)\n",
    "data_spp = az.from_pymc3(trace=trace, posterior_predictive=y_pred_g)\n",
    "\n",
    "posterior_params = az.plot_posterior(data_spp, var_names='params', hdi_prob=.95, point_estimate='mean', textsize=20, round_to=4)\"\"\"\n",
    "az.summary(trace)"
   ]
  },
  {
   "cell_type": "code",
   "execution_count": 13,
   "metadata": {},
   "outputs": [
    {
     "data": {
      "text/plain": [
       "array([ 2.52016904e+00,  2.71289422e+00,  3.18039907e+00,  3.96657913e+00,\n",
       "        3.59322222e+00,  4.11549484e+00,  4.01689136e+00,  3.30343798e+00,\n",
       "        2.63367937e+00,  2.56086647e+00,  1.87919754e+00,  1.40906992e+00,\n",
       "        1.03110195e+00,  7.16870738e-01,  4.83734123e-01,  2.50959737e-01,\n",
       "        1.88127676e-01,  9.34527835e-02,  5.28182149e-02,  2.31283209e-02,\n",
       "        2.67967415e+00,  3.86748408e+00,  4.47718448e+00,  4.72478416e+00,\n",
       "        6.92252465e+00,  5.75558934e+00,  5.33826511e+00,  3.62213325e+00,\n",
       "        2.26485923e+00,  1.12976266e+00,  5.77058655e-01,  1.77958655e-01,\n",
       "        4.23533946e-02,  8.54697609e-03,  2.33694203e-03,  3.43442150e-04,\n",
       "       -3.37218607e-06,  7.15163784e-05,  0.00000000e+00,  0.00000000e+00])"
      ]
     },
     "execution_count": 13,
     "metadata": {},
     "output_type": "execute_result"
    }
   ],
   "source": [
    "p = np.array([1.7, -1.1])\n",
    "ppoly = np.prod(np.power(p, comp[:, np.newaxis]), axis=2)\n",
    "\n",
    "y_test = np.dot(coeff, ppoly).flatten()\n",
    "y_test"
   ]
  },
  {
   "cell_type": "code",
   "execution_count": 14,
   "metadata": {},
   "outputs": [
    {
     "data": {
      "text/plain": [
       "array([ 2.52016904e+00,  2.71289422e+00,  3.18039907e+00,  3.96657913e+00,\n",
       "        3.59322222e+00,  4.11549484e+00,  4.01689136e+00,  3.30343798e+00,\n",
       "        2.63367937e+00,  2.56086647e+00,  1.87919754e+00,  1.40906992e+00,\n",
       "        1.03110195e+00,  7.16870738e-01,  4.83734123e-01,  2.50959737e-01,\n",
       "        1.88127676e-01,  9.34527835e-02,  5.28182149e-02,  2.31283209e-02,\n",
       "        2.67967415e+00,  3.86748408e+00,  4.47718448e+00,  4.72478416e+00,\n",
       "        6.92252465e+00,  5.75558934e+00,  5.33826511e+00,  3.62213325e+00,\n",
       "        2.26485923e+00,  1.12976266e+00,  5.77058655e-01,  1.77958655e-01,\n",
       "        4.23533946e-02,  8.54697609e-03,  2.33694203e-03,  3.43442150e-04,\n",
       "       -3.37218607e-06,  7.15163784e-05,  0.00000000e+00,  0.00000000e+00])"
      ]
     },
     "execution_count": 14,
     "metadata": {},
     "output_type": "execute_result"
    }
   ],
   "source": [
    "from aesara import function\n",
    "p = at.vector('p')\n",
    "z_test = at.dot(coeff, at.prod(at.power(p, comp[:, np.newaxis]), axis=2, no_zeros_in_input=True)).flatten()\n",
    "\n",
    "f = function([p], z_test)\n",
    "f(np.array([1.7, -1.1]))"
   ]
  },
  {
   "cell_type": "code",
   "execution_count": 53,
   "metadata": {},
   "outputs": [
    {
     "name": "stderr",
     "output_type": "stream",
     "text": [
      "Multiprocess sampling (4 chains in 4 jobs)\n",
      "INFO:pymc:Multiprocess sampling (4 chains in 4 jobs)\n",
      "NUTS: [p, true_x]\n",
      "INFO:pymc:NUTS: [p, true_x]\n"
     ]
    },
    {
     "data": {
      "text/html": [
       "\n",
       "<style>\n",
       "    /* Turns off some styling */\n",
       "    progress {\n",
       "        /* gets rid of default border in Firefox and Opera. */\n",
       "        border: none;\n",
       "        /* Needs to be in here for Safari polyfill so background images work as expected. */\n",
       "        background-size: auto;\n",
       "    }\n",
       "    progress:not([value]), progress:not([value])::-webkit-progress-bar {\n",
       "        background: repeating-linear-gradient(45deg, #7e7e7e, #7e7e7e 10px, #5c5c5c 10px, #5c5c5c 20px);\n",
       "    }\n",
       "    .progress-bar-interrupted, .progress-bar-interrupted::-webkit-progress-bar {\n",
       "        background: #F44336;\n",
       "    }\n",
       "</style>\n"
      ],
      "text/plain": [
       "<IPython.core.display.HTML object>"
      ]
     },
     "metadata": {},
     "output_type": "display_data"
    },
    {
     "data": {
      "text/html": [
       "\n",
       "    <div>\n",
       "      <progress value='4400' class='' max='4400' style='width:300px; height:20px; vertical-align: middle;'></progress>\n",
       "      100.00% [4400/4400 00:03&lt;00:00 Sampling 4 chains, 0 divergences]\n",
       "    </div>\n",
       "    "
      ],
      "text/plain": [
       "<IPython.core.display.HTML object>"
      ]
     },
     "metadata": {},
     "output_type": "display_data"
    },
    {
     "name": "stderr",
     "output_type": "stream",
     "text": [
      "Sampling 4 chains for 100 tune and 1_000 draw iterations (400 + 4_000 draws total) took 4 seconds.\n",
      "INFO:pymc:Sampling 4 chains for 100 tune and 1_000 draw iterations (400 + 4_000 draws total) took 4 seconds.\n"
     ]
    },
    {
     "data": {
      "image/png": "[encoded data removed]",
      "text/plain": [
       "<Figure size 1200x200 with 2 Axes>"
      ]
     },
     "metadata": {},
     "output_type": "display_data"
    }
   ],
   "source": [
    "import jax.random as random\n",
    "import numpy as np\n",
    "import pymc as pm\n",
    "import arviz as az\n",
    "\n",
    "m = 3\n",
    "c = 1\n",
    "\n",
    "\n",
    "def f_real(x):\n",
    "    return m*np.sqrt(x) + m**2*np.sqrt(x) + c\n",
    "\n",
    "#create x-points of \"fake\" data\n",
    "x_max = 1\n",
    "pt_num = 10\n",
    "x_dat = np.linspace(0, x_max, pt_num)\n",
    "x_unc = 0.5*(np.square(x_dat)+x_max/10)/pt_num\n",
    "\n",
    "#create random abberation in y\n",
    "key = random.PRNGKey(27)\n",
    "abrt_scale = 0.1*x_max*m\n",
    "def f_abrt(x):\n",
    "    return m*np.sqrt(x) + m**2*np.sqrt(x) + c + abrt_scale*random.normal(key, shape=(x.size,))\n",
    "\n",
    "\n",
    "f_dat = np.array(f_abrt(x_dat))\n",
    "comp = np.array([[1,0], [2,0], [0,1]])\n",
    "\n",
    "with pm.Model() as lin_model:\n",
    "    p = pm.Normal('p', 0.5, sigma=0.5, shape=(2,)) \n",
    "    p_poly = at.prod(at.pow(p, comp[:, np.newaxis]), axis=2, no_zeros_in_input=True).flatten()\n",
    "\n",
    "    true_x = pm.HalfNormal('true_x', 2*x_max, shape=jnp.shape(x_dat))\n",
    "    likelihood_x = pm.Normal('x', mu=true_x, sigma=x_unc, observed=x_dat)\n",
    "\n",
    "    true_f = p_poly[0]*true_x + p_poly[1]*at.sqrt(true_x) + p_poly[2]\n",
    "    likelihood_f = pm.Normal('f', mu=true_f, sigma=f_dat/20, observed=f_dat)\n",
    "    \n",
    "\n",
    "    step_lin = pm.NUTS(max_treedepth=15)\n",
    "    trace_lin = pm.sample(1000, step_lin, tune=100)\n",
    "\n",
    "\n",
    "    az.plot_trace(trace_lin, var_names='p')\n",
    "    \n",
    "\n",
    "\n"
   ]
  },
  {
   "cell_type": "code",
   "execution_count": 38,
   "metadata": {},
   "outputs": [
    {
     "name": "stderr",
     "output_type": "stream",
     "text": [
      "/home/achen8998/.local/lib/python3.8/site-packages/arviz/stats/diagnostics.py:584: RuntimeWarning: invalid value encountered in double_scalars\n",
      "  (between_chain_variance / within_chain_variance + num_samples - 1) / (num_samples)\n"
     ]
    },
    {
     "data": {
      "text/plain": [
       "[p ~ N(0.5, 0.5),\n",
       " true_x ~ N(0, 2),\n",
       " x ~ N(true_x, <constant>),\n",
       " f ~ N(f(true_x, p), <constant>)]"
      ]
     },
     "execution_count": 38,
     "metadata": {},
     "output_type": "execute_result"
    }
   ],
   "source": [
    "az.summary(trace_lin)\n",
    "lin_model.basic_RVs"
   ]
  },
  {
   "cell_type": "code",
   "execution_count": 57,
   "metadata": {},
   "outputs": [
    {
     "data": {
      "text/plain": [
       "[<matplotlib.lines.Line2D at 0x7fbd51249820>]"
      ]
     },
     "execution_count": 57,
     "metadata": {},
     "output_type": "execute_result"
    },
    {
     "data": {
      "image/png": "[encoded data removed]",
      "text/plain": [
       "<Figure size 640x480 with 1 Axes>"
      ]
     },
     "metadata": {},
     "output_type": "display_data"
    }
   ],
   "source": [
    "import matplotlib.pyplot as plt\n",
    "\n",
    "p_fit = jnp.average(jnp.array(trace_lin.posterior.p[0]), axis=0)\n",
    "p_unc = jnp.std(jnp.array(trace_lin.posterior.p[0]), axis=0)\n",
    "def f_fit(x):\n",
    "    return p_fit[0]*x + p_fit[1]\n",
    "\n",
    "plt.errorbar(x_dat, f_dat, yerr=f_dat/20, xerr=x_unc, fmt='o')\n",
    "plt.plot(x_dat, f_fit(x_dat))"
   ]
  },
  {
   "cell_type": "code",
   "execution_count": 51,
   "metadata": {},
   "outputs": [
    {
     "data": {
      "text/plain": [
       "array([2, 4, 3])"
      ]
     },
     "execution_count": 51,
     "metadata": {},
     "output_type": "execute_result"
    }
   ],
   "source": [
    "p = np.array([2, 3])\n",
    "np.prod(pow(p, comp[:, np.newaxis]), axis=2).flatten()"
   ]
  }
 ],
 "metadata": {
  "kernelspec": {
   "display_name": "Python 3.8.10 64-bit",
   "language": "python",
   "name": "python3"
  },
  "language_info": {
   "codemirror_mode": {
    "name": "ipython",
    "version": 3
   },
   "file_extension": ".py",
   "mimetype": "text/x-python",
   "name": "python",
   "nbconvert_exporter": "python",
   "pygments_lexer": "ipython3",
   "version": "3.8.10"
  },
  "orig_nbformat": 4,
  "vscode": {
   "interpreter": {
    "hash": "916dbcbb3f70747c44a77c7bcd40155683ae19c65e1c03b4aa3499c5328201f1"
   }
  }
 },
 "nbformat": 4,
 "nbformat_minor": 2
}
