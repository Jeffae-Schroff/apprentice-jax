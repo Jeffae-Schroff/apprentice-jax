{
 "cells": [
  {
   "cell_type": "code",
   "execution_count": 1,
   "metadata": {},
   "outputs": [
    {
     "name": "stdout",
     "output_type": "stream",
     "text": [
      "['/ATLAS_2019_I1736531/d01-x01-y01', '/ATLAS_2019_I1736531/d01-x01-y01[AUX_isr:murfac=0.5]', '/ATLAS_2019_I1736531/d01-x01-y01[AUX_isr:murfac=2.0]', '/ATLAS_2019_I1736531/d01-x01-y01[AUX_isr:pdf:minus=1.0]', '/ATLAS_2019_I1736531/d01-x01-y01[AUX_isr:pdf:plus=1.0]']\n",
      "fitting /ATLAS_2019_I1736531/d01-x01-y01#0\n",
      "fitting /ATLAS_2019_I1736531/d01-x01-y01#1\n",
      "fitting /ATLAS_2019_I1736531/d01-x01-y01#2\n",
      "fitting /ATLAS_2019_I1736531/d01-x01-y01#3\n",
      "fitting /ATLAS_2019_I1736531/d01-x01-y01#4\n",
      "fitting /ATLAS_2019_I1736531/d01-x01-y01#5\n",
      "fitting /ATLAS_2019_I1736531/d01-x01-y01#6\n",
      "fitting /ATLAS_2019_I1736531/d01-x01-y01#7\n",
      "fitting /ATLAS_2019_I1736531/d01-x01-y01[AUX_isr:murfac=0.5]#0\n",
      "fitting /ATLAS_2019_I1736531/d01-x01-y01[AUX_isr:murfac=0.5]#1\n",
      "fitting /ATLAS_2019_I1736531/d01-x01-y01[AUX_isr:murfac=0.5]#2\n",
      "fitting /ATLAS_2019_I1736531/d01-x01-y01[AUX_isr:murfac=0.5]#3\n",
      "fitting /ATLAS_2019_I1736531/d01-x01-y01[AUX_isr:murfac=0.5]#4\n",
      "fitting /ATLAS_2019_I1736531/d01-x01-y01[AUX_isr:murfac=0.5]#5\n",
      "fitting /ATLAS_2019_I1736531/d01-x01-y01[AUX_isr:murfac=0.5]#6\n",
      "fitting /ATLAS_2019_I1736531/d01-x01-y01[AUX_isr:murfac=0.5]#7\n",
      "fitting /ATLAS_2019_I1736531/d01-x01-y01[AUX_isr:murfac=2.0]#0\n",
      "fitting /ATLAS_2019_I1736531/d01-x01-y01[AUX_isr:murfac=2.0]#1\n",
      "fitting /ATLAS_2019_I1736531/d01-x01-y01[AUX_isr:murfac=2.0]#2\n",
      "fitting /ATLAS_2019_I1736531/d01-x01-y01[AUX_isr:murfac=2.0]#3\n",
      "fitting /ATLAS_2019_I1736531/d01-x01-y01[AUX_isr:murfac=2.0]#4\n",
      "fitting /ATLAS_2019_I1736531/d01-x01-y01[AUX_isr:murfac=2.0]#5\n",
      "fitting /ATLAS_2019_I1736531/d01-x01-y01[AUX_isr:murfac=2.0]#6\n",
      "fitting /ATLAS_2019_I1736531/d01-x01-y01[AUX_isr:murfac=2.0]#7\n",
      "fitting /ATLAS_2019_I1736531/d01-x01-y01[AUX_isr:pdf:minus=1.0]#0\n",
      "fitting /ATLAS_2019_I1736531/d01-x01-y01[AUX_isr:pdf:minus=1.0]#1\n",
      "fitting /ATLAS_2019_I1736531/d01-x01-y01[AUX_isr:pdf:minus=1.0]#2\n",
      "fitting /ATLAS_2019_I1736531/d01-x01-y01[AUX_isr:pdf:minus=1.0]#3\n",
      "fitting /ATLAS_2019_I1736531/d01-x01-y01[AUX_isr:pdf:minus=1.0]#4\n",
      "fitting /ATLAS_2019_I1736531/d01-x01-y01[AUX_isr:pdf:minus=1.0]#5\n",
      "fitting /ATLAS_2019_I1736531/d01-x01-y01[AUX_isr:pdf:minus=1.0]#6\n",
      "fitting /ATLAS_2019_I1736531/d01-x01-y01[AUX_isr:pdf:minus=1.0]#7\n",
      "fitting /ATLAS_2019_I1736531/d01-x01-y01[AUX_isr:pdf:plus=1.0]#0\n",
      "fitting /ATLAS_2019_I1736531/d01-x01-y01[AUX_isr:pdf:plus=1.0]#1\n",
      "fitting /ATLAS_2019_I1736531/d01-x01-y01[AUX_isr:pdf:plus=1.0]#2\n",
      "fitting /ATLAS_2019_I1736531/d01-x01-y01[AUX_isr:pdf:plus=1.0]#3\n",
      "fitting /ATLAS_2019_I1736531/d01-x01-y01[AUX_isr:pdf:plus=1.0]#4\n",
      "fitting /ATLAS_2019_I1736531/d01-x01-y01[AUX_isr:pdf:plus=1.0]#5\n",
      "fitting /ATLAS_2019_I1736531/d01-x01-y01[AUX_isr:pdf:plus=1.0]#6\n",
      "fitting /ATLAS_2019_I1736531/d01-x01-y01[AUX_isr:pdf:plus=1.0]#7\n"
     ]
    },
    {
     "ename": "IndexError",
     "evalue": "list index out of range",
     "output_type": "error",
     "traceback": [
      "\u001b[0;31m---------------------------------------------------------------------------\u001b[0m",
      "\u001b[0;31mIndexError\u001b[0m                                Traceback (most recent call last)",
      "\u001b[1;32m/home/jeffae/apprentice-jax/new_data_graphs.ipynb Cell 1\u001b[0m in \u001b[0;36m<cell line: 7>\u001b[0;34m()\u001b[0m\n\u001b[1;32m      <a href='vscode-notebook-cell://wsl%2Bubuntu-20.04/home/jeffae/apprentice-jax/new_data_graphs.ipynb#W0sdnNjb2RlLXJlbW90ZQ%3D%3D?line=4'>5</a>\u001b[0m summer_fits \u001b[39m=\u001b[39m Polyfit(\u001b[39m'\u001b[39m\u001b[39msummer_data/summer_p_coeffs.npz\u001b[39m\u001b[39m'\u001b[39m, \u001b[39m'\u001b[39m\u001b[39msummer_data/summer_chi2res.npz\u001b[39m\u001b[39m'\u001b[39m, obs_sample \u001b[39m=\u001b[39m obs_sample, input_h5\u001b[39m=\u001b[39m\u001b[39m'\u001b[39m\u001b[39msummer_data/inputdata.h5\u001b[39m\u001b[39m'\u001b[39m, order\u001b[39m=\u001b[39m\u001b[39m3\u001b[39m)\n\u001b[1;32m      <a href='vscode-notebook-cell://wsl%2Bubuntu-20.04/home/jeffae/apprentice-jax/new_data_graphs.ipynb#W0sdnNjb2RlLXJlbW90ZQ%3D%3D?line=5'>6</a>\u001b[0m p_guess \u001b[39m=\u001b[39m [\u001b[39m1\u001b[39m]\n\u001b[0;32m----> <a href='vscode-notebook-cell://wsl%2Bubuntu-20.04/home/jeffae/apprentice-jax/new_data_graphs.ipynb#W0sdnNjb2RlLXJlbW90ZQ%3D%3D?line=6'>7</a>\u001b[0m summer_tune \u001b[39m=\u001b[39m Paramtune(\u001b[39m'\u001b[39;49m\u001b[39msummer_data/allrivetdata.json\u001b[39;49m\u001b[39m'\u001b[39;49m, p_guess, obs_sample, \u001b[39m\"\u001b[39;49m\u001b[39msummer_data/summer_p_coeffs.npz\u001b[39;49m\u001b[39m\"\u001b[39;49m, \u001b[39m\"\u001b[39;49m\u001b[39msummer_data/summer_chi2res.npz\u001b[39;49m\u001b[39m\"\u001b[39;49m)\n",
      "File \u001b[0;32m~/apprentice-jax/paramtune.py:21\u001b[0m, in \u001b[0;36mParamtune.__init__\u001b[0;34m(self, target_json, initial_guess, obs_sample, p_coeffs_npz, chi2res_npz, **kwargs)\u001b[0m\n\u001b[1;32m     19\u001b[0m args \u001b[39m=\u001b[39m (\u001b[39mlist\u001b[39m(\u001b[39mself\u001b[39m\u001b[39m.\u001b[39mtarget_values\u001b[39m.\u001b[39mvalues()), \u001b[39mlist\u001b[39m(\u001b[39mself\u001b[39m\u001b[39m.\u001b[39mtarget_error\u001b[39m.\u001b[39mvalues()), \u001b[39mlist\u001b[39m(\u001b[39mself\u001b[39m\u001b[39m.\u001b[39mfits\u001b[39m.\u001b[39mp_coeffs\u001b[39m.\u001b[39mvalues()))\n\u001b[1;32m     20\u001b[0m \u001b[39mif\u001b[39;00m \u001b[39mnot\u001b[39;00m (\u001b[39m'\u001b[39m\u001b[39mcov_npz\u001b[39m\u001b[39m'\u001b[39m \u001b[39min\u001b[39;00m kwargs\u001b[39m.\u001b[39mkeys()):\n\u001b[0;32m---> 21\u001b[0m     \u001b[39mself\u001b[39m\u001b[39m.\u001b[39mp_opt \u001b[39m=\u001b[39m opt\u001b[39m.\u001b[39;49mminimize(\u001b[39mself\u001b[39;49m\u001b[39m.\u001b[39;49mobjective_func_no_err, initial_guess, args \u001b[39m=\u001b[39;49m args, method\u001b[39m=\u001b[39;49m\u001b[39m'\u001b[39;49m\u001b[39mNelder-Mead\u001b[39;49m\u001b[39m'\u001b[39;49m)\n\u001b[1;32m     22\u001b[0m \u001b[39melse\u001b[39;00m:\n\u001b[1;32m     23\u001b[0m     args \u001b[39m=\u001b[39m args \u001b[39m+\u001b[39m (\u001b[39mlist\u001b[39m(\u001b[39mself\u001b[39m\u001b[39m.\u001b[39mfits\u001b[39m.\u001b[39mcov\u001b[39m.\u001b[39mvalues()))\n",
      "File \u001b[0;32m~/.local/lib/python3.8/site-packages/scipy/optimize/_minimize.py:611\u001b[0m, in \u001b[0;36mminimize\u001b[0;34m(fun, x0, args, method, jac, hess, hessp, bounds, constraints, tol, callback, options)\u001b[0m\n\u001b[1;32m    608\u001b[0m     constraints \u001b[39m=\u001b[39m standardize_constraints(constraints, x0, meth)\n\u001b[1;32m    610\u001b[0m \u001b[39mif\u001b[39;00m meth \u001b[39m==\u001b[39m \u001b[39m'\u001b[39m\u001b[39mnelder-mead\u001b[39m\u001b[39m'\u001b[39m:\n\u001b[0;32m--> 611\u001b[0m     \u001b[39mreturn\u001b[39;00m _minimize_neldermead(fun, x0, args, callback, bounds\u001b[39m=\u001b[39;49mbounds,\n\u001b[1;32m    612\u001b[0m                                 \u001b[39m*\u001b[39;49m\u001b[39m*\u001b[39;49moptions)\n\u001b[1;32m    613\u001b[0m \u001b[39melif\u001b[39;00m meth \u001b[39m==\u001b[39m \u001b[39m'\u001b[39m\u001b[39mpowell\u001b[39m\u001b[39m'\u001b[39m:\n\u001b[1;32m    614\u001b[0m     \u001b[39mreturn\u001b[39;00m _minimize_powell(fun, x0, args, callback, bounds, \u001b[39m*\u001b[39m\u001b[39m*\u001b[39moptions)\n",
      "File \u001b[0;32m~/.local/lib/python3.8/site-packages/scipy/optimize/optimize.py:750\u001b[0m, in \u001b[0;36m_minimize_neldermead\u001b[0;34m(func, x0, args, callback, maxiter, maxfev, disp, return_all, initial_simplex, xatol, fatol, adaptive, bounds, **unknown_options)\u001b[0m\n\u001b[1;32m    747\u001b[0m fsim \u001b[39m=\u001b[39m np\u001b[39m.\u001b[39mempty((N \u001b[39m+\u001b[39m \u001b[39m1\u001b[39m,), \u001b[39mfloat\u001b[39m)\n\u001b[1;32m    749\u001b[0m \u001b[39mfor\u001b[39;00m k \u001b[39min\u001b[39;00m \u001b[39mrange\u001b[39m(N \u001b[39m+\u001b[39m \u001b[39m1\u001b[39m):\n\u001b[0;32m--> 750\u001b[0m     fsim[k] \u001b[39m=\u001b[39m func(sim[k])\n\u001b[1;32m    752\u001b[0m ind \u001b[39m=\u001b[39m np\u001b[39m.\u001b[39margsort(fsim)\n\u001b[1;32m    753\u001b[0m fsim \u001b[39m=\u001b[39m np\u001b[39m.\u001b[39mtake(fsim, ind, \u001b[39m0\u001b[39m)\n",
      "File \u001b[0;32m~/.local/lib/python3.8/site-packages/scipy/optimize/optimize.py:464\u001b[0m, in \u001b[0;36m_wrap_function.<locals>.function_wrapper\u001b[0;34m(x, *wrapper_args)\u001b[0m\n\u001b[1;32m    462\u001b[0m \u001b[39mdef\u001b[39;00m \u001b[39mfunction_wrapper\u001b[39m(x, \u001b[39m*\u001b[39mwrapper_args):\n\u001b[1;32m    463\u001b[0m     ncalls[\u001b[39m0\u001b[39m] \u001b[39m+\u001b[39m\u001b[39m=\u001b[39m \u001b[39m1\u001b[39m\n\u001b[0;32m--> 464\u001b[0m     \u001b[39mreturn\u001b[39;00m function(np\u001b[39m.\u001b[39;49mcopy(x), \u001b[39m*\u001b[39;49m(wrapper_args \u001b[39m+\u001b[39;49m args))\n",
      "File \u001b[0;32m~/apprentice-jax/paramtune.py:64\u001b[0m, in \u001b[0;36mParamtune.objective_func_no_err\u001b[0;34m(self, p, d, d_sig, coeff)\u001b[0m\n\u001b[1;32m     62\u001b[0m \u001b[39m#Loop over the bins\u001b[39;00m\n\u001b[1;32m     63\u001b[0m \u001b[39mfor\u001b[39;00m i \u001b[39min\u001b[39;00m \u001b[39mrange\u001b[39m(jnp\u001b[39m.\u001b[39msize(jnp\u001b[39m.\u001b[39marray(coeff), axis\u001b[39m=\u001b[39m\u001b[39m0\u001b[39m)):\n\u001b[0;32m---> 64\u001b[0m     \u001b[39mif\u001b[39;00m d_sig[i] \u001b[39m==\u001b[39m \u001b[39m0.0\u001b[39m:\n\u001b[1;32m     65\u001b[0m         \u001b[39mcontinue\u001b[39;00m\n\u001b[1;32m     66\u001b[0m     adj_res_sq \u001b[39m=\u001b[39m (d[i]\u001b[39m-\u001b[39mjnp\u001b[39m.\u001b[39mmatmul(coeff[i], poly\u001b[39m.\u001b[39mT))\u001b[39m*\u001b[39m\u001b[39m*\u001b[39m\u001b[39m2\u001b[39m\u001b[39m/\u001b[39m(d_sig[i]\u001b[39m*\u001b[39m\u001b[39m*\u001b[39m\u001b[39m2\u001b[39m) \u001b[39m#Inner part of summation\u001b[39;00m\n",
      "\u001b[0;31mIndexError\u001b[0m: list index out of range"
     ]
    }
   ],
   "source": [
    "from polyfit import Polyfit\n",
    "from paramtune import Paramtune\n",
    "import json\n",
    "obs_sample = 5\n",
    "summer_fits = Polyfit('summer_data/summer_p_coeffs.npz', 'summer_data/summer_chi2res.npz', obs_sample = obs_sample, input_h5='summer_data/inputdata.h5', order=3)\n",
    "p_guess = [1]\n",
    "summer_tune = Paramtune('summer_data/allrivetdata.json', p_guess, obs_sample, \"summer_data/summer_p_coeffs.npz\", \"summer_data/summer_chi2res.npz\")"
   ]
  }
 ],
 "metadata": {
  "kernelspec": {
   "display_name": "Python 3.8.10 64-bit",
   "language": "python",
   "name": "python3"
  },
  "language_info": {
   "codemirror_mode": {
    "name": "ipython",
    "version": 3
   },
   "file_extension": ".py",
   "mimetype": "text/x-python",
   "name": "python",
   "nbconvert_exporter": "python",
   "pygments_lexer": "ipython3",
   "version": "3.8.10"
  },
  "orig_nbformat": 4,
  "vscode": {
   "interpreter": {
    "hash": "916dbcbb3f70747c44a77c7bcd40155683ae19c65e1c03b4aa3499c5328201f1"
   }
  }
 },
 "nbformat": 4,
 "nbformat_minor": 2
}
