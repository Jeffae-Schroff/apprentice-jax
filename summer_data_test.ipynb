{
 "cells": [
  {
   "cell_type": "code",
   "execution_count": 1,
   "metadata": {},
   "outputs": [
    {
     "ename": "SyntaxError",
     "evalue": "invalid syntax (995017695.py, line 7)",
     "output_type": "error",
     "traceback": [
      "\u001b[0;36m  Input \u001b[0;32mIn [1]\u001b[0;36m\u001b[0m\n\u001b[0;31m    summer_tune = Paramtune('summer_data/fits.npz', 'summer_data/inputdata.h5' p_guess, covariance = False)\u001b[0m\n\u001b[0m                                                                               ^\u001b[0m\n\u001b[0;31mSyntaxError\u001b[0m\u001b[0;31m:\u001b[0m invalid syntax\n"
     ]
    }
   ],
   "source": [
    "from modules.polyfit import Polyfit\n",
    "from modules.paramtune import Paramtune\n",
    "p_guess = [0.1]\n",
    "\n",
    "summer_fits = Polyfit('summer_data/fits.npz', input_h5='summer_data/inputdata.h5', order=3, covariance = False)\n",
    "\n",
    "summer_tune = Paramtune('summer_data/fits.npz', 'summer_data/inputdata.h5', p_guess, covariance = False)"
   ]
  },
  {
   "cell_type": "code",
   "execution_count": null,
   "metadata": {},
   "outputs": [
    {
     "name": "stdout",
     "output_type": "stream",
     "text": [
      "done\n"
     ]
    }
   ],
   "source": [
    "import json\n",
    "with open(\"summer_data/allrivetdata.json\", 'r') as f:\n",
    "            target_data = json.loads(f.read())\n",
    "\n",
    "import h5py\n",
    "f = h5py.File(\"summer_data/inputdata.h5\", \"r\")\n",
    "bin_ids = [x.decode() for x in f.get(\"index\")[:]]\n",
    "# the index keys bin names to the array indexes in f.get(index) with binids matching that bin name\n",
    "index = {}\n",
    "# If key not in index yet, start a new list as its value. Append i to key's value. \n",
    "[index.setdefault(bin.split('#')[0], []).append(count) for count,bin in enumerate(bin_ids)]\n",
    "print(\"done\")\n"
   ]
  },
  {
   "cell_type": "code",
   "execution_count": null,
   "metadata": {},
   "outputs": [],
   "source": [
    "bin_ids = target_data.keys()\n",
    "# the index keys bin names to the array indexes in f.get(index) with binids matching that bin name\n",
    "target_index = {}\n",
    "# If key not in index yet, start a new list as its value. Append i to key's value. \n",
    "[target_index.setdefault(bin.split('#')[0], []).append(count) for count,bin in enumerate(bin_ids)];"
   ]
  },
  {
   "cell_type": "code",
   "execution_count": null,
   "metadata": {},
   "outputs": [
    {
     "name": "stdout",
     "output_type": "stream",
     "text": [
      "21070 4725 0\n",
      "[]\n"
     ]
    }
   ],
   "source": [
    "import numpy as np\n",
    "intersect = np.intersect1d(list(target_index.keys()), list(index.keys()))\n",
    "print(len(target_index), len(index), len(intersect))\n",
    "print(intersect)"
   ]
  },
  {
   "cell_type": "code",
   "execution_count": null,
   "metadata": {},
   "outputs": [],
   "source": [
    "for k in target_index.keys():\n",
    "    if \"I1736531\" in k:\n",
    "        print(k)"
   ]
  },
  {
   "cell_type": "code",
   "execution_count": null,
   "metadata": {},
   "outputs": [
    {
     "name": "stdout",
     "output_type": "stream",
     "text": [
      "377560\n",
      "/CLEOII_1995_I397770/d01-x01-y01#0 [178.2, 1.118034]\n",
      "/CLEOII_1995_I397770/d02-x01-y01#0 [2.171241, 1.258724]\n",
      "/CLEOII_1995_I397770/d02-x01-y01#1 [2.285394, 1.09671]\n",
      "/CLEOII_1995_I397770/d02-x01-y01#2 [2.454393, 0.9670987]\n",
      "/CLEOII_1995_I397770/d02-x01-y01#3 [2.179712, 0.7776695]\n",
      "21070\n",
      "/CLEOII_1995_I397770/d01-x01-y01 [0]\n",
      "/CLEOII_1995_I397770/d02-x01-y01 [1, 2, 3, 4, 5]\n",
      "/CLEOII_1995_I397770/d03-x01-y01 [6]\n",
      "/ALEPH_2014_I1267648/d01-x01-y01 [7, 8, 9, 10, 11, 12, 13, 14, 15, 16, 17, 18, 19, 20, 21, 22, 23, 24, 25, 26, 27, 28, 29, 30, 31, 32, 33, 34, 35, 36, 37, 38, 39, 40, 41, 42, 43, 44, 45, 46, 47, 48, 49, 50, 51, 52, 53, 54, 55, 56, 57, 58, 59, 60, 61, 62, 63, 64, 65, 66, 67, 68, 69, 70, 71, 72, 73, 74, 75, 76, 77, 78, 79, 80, 81, 82, 83, 84, 85, 86]\n",
      "/ALEPH_2014_I1267648/d02-x01-y01 [87, 88, 89, 90, 91, 92, 93, 94, 95, 96, 97, 98, 99, 100, 101, 102, 103, 104, 105, 106, 107, 108, 109, 110, 111, 112, 113, 114, 115, 116, 117, 118, 119, 120, 121, 122, 123, 124, 125, 126, 127, 128, 129, 130, 131, 132, 133, 134, 135, 136, 137, 138, 139, 140, 141, 142, 143, 144, 145, 146, 147, 148, 149, 150, 151, 152, 153, 154, 155, 156, 157, 158, 159, 160]\n",
      "4725\n",
      "/ATLAS_2019_I1736531/d01-x01-y01 [0, 1, 2, 3, 4, 5, 6, 7]\n",
      "/ATLAS_2019_I1736531/d01-x01-y01[AUX_isr:murfac=0.5] [8, 9, 10, 11, 12, 13, 14, 15]\n",
      "/ATLAS_2019_I1736531/d01-x01-y01[AUX_isr:murfac=2.0] [16, 17, 18, 19, 20, 21, 22, 23]\n",
      "/ATLAS_2019_I1736531/d01-x01-y01[AUX_isr:pdf:minus=1.0] [24, 25, 26, 27, 28, 29, 30, 31]\n",
      "/ATLAS_2019_I1736531/d01-x01-y01[AUX_isr:pdf:plus=1.0] [32, 33, 34, 35, 36, 37, 38, 39]\n"
     ]
    }
   ],
   "source": [
    "print(len(target_data))\n",
    "for i,k in zip(range(5), target_data):\n",
    "    print(k, target_data[k])\n",
    "print(len(target_index))\n",
    "for i,k in zip(range(5), target_index):\n",
    "    print(k, target_index[k])\n",
    "print(len(index))\n",
    "for i,k in zip(range(5), index):\n",
    "    print(k, index[k])"
   ]
  },
  {
   "cell_type": "code",
   "execution_count": null,
   "metadata": {},
   "outputs": [],
   "source": []
  }
 ],
 "metadata": {
  "kernelspec": {
   "display_name": "Python 3.8.10 64-bit",
   "language": "python",
   "name": "python3"
  },
  "language_info": {
   "codemirror_mode": {
    "name": "ipython",
    "version": 3
   },
   "file_extension": ".py",
   "mimetype": "text/x-python",
   "name": "python",
   "nbconvert_exporter": "python",
   "pygments_lexer": "ipython3",
   "version": "3.8.10"
  },
  "orig_nbformat": 4,
  "vscode": {
   "interpreter": {
    "hash": "916dbcbb3f70747c44a77c7bcd40155683ae19c65e1c03b4aa3499c5328201f1"
   }
  }
 },
 "nbformat": 4,
 "nbformat_minor": 2
}
