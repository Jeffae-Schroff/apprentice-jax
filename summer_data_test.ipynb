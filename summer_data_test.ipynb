{
 "cells": [
  {
   "cell_type": "code",
   "execution_count": 1,
   "metadata": {},
   "outputs": [
    {
     "name": "stdout",
     "output_type": "stream",
     "text": [
      "Filtered 782 of 134343 total bins for invalid input\n",
      "Choosing to fit observables with ['d00-', 'd01-', 'd02-', 'd03-', 'd04-', 'd05-']\n",
      "Fitting 315 of 133561: /ATLAS_2019_I1736531/d05-x01-y01[AUX_pdfup]#6               \n",
      "Fits written to summer_data/fits.npz\n"
     ]
    }
   ],
   "source": [
    "from modules.polyfit import Polyfit\n",
    "from modules.paramtune import Paramtune\n",
    "import jax.numpy as jnp\n",
    "summer_fits = Polyfit('summer_data/fits.npz', input_h5='summer_data/inputdata.h5', order=3, covariance = True, fit_obs = list(range(6)), cpu = True)"
   ]
  },
  {
   "cell_type": "code",
   "execution_count": 1,
   "metadata": {},
   "outputs": [
    {
     "ename": "NameError",
     "evalue": "name 'Paramtune' is not defined",
     "output_type": "error",
     "traceback": [
      "\u001b[0;31m---------------------------------------------------------------------------\u001b[0m",
      "\u001b[0;31mNameError\u001b[0m                                 Traceback (most recent call last)",
      "\u001b[1;32m/home/jeffae/apprentice-jax/summer_data_test.ipynb Cell 2\u001b[0m in \u001b[0;36m<cell line: 2>\u001b[0;34m()\u001b[0m\n\u001b[1;32m      <a href='vscode-notebook-cell://wsl%2Bubuntu-20.04/home/jeffae/apprentice-jax/summer_data_test.ipynb#W1sdnNjb2RlLXJlbW90ZQ%3D%3D?line=0'>1</a>\u001b[0m target_bins \u001b[39m=\u001b[39m \u001b[39mlist\u001b[39m(\u001b[39mrange\u001b[39m(\u001b[39m40\u001b[39m))\n\u001b[0;32m----> <a href='vscode-notebook-cell://wsl%2Bubuntu-20.04/home/jeffae/apprentice-jax/summer_data_test.ipynb#W1sdnNjb2RlLXJlbW90ZQ%3D%3D?line=1'>2</a>\u001b[0m summer_tune_more \u001b[39m=\u001b[39m Paramtune(\u001b[39m'\u001b[39m\u001b[39msummer_data/fits.npz\u001b[39m\u001b[39m'\u001b[39m, \u001b[39m'\u001b[39m\u001b[39msummer_data/HEPData-ins1736531-v1-csv.h5\u001b[39m\u001b[39m'\u001b[39m, covariance \u001b[39m=\u001b[39m \u001b[39mFalse\u001b[39;00m, target_bins \u001b[39m=\u001b[39m target_bins)\n\u001b[1;32m      <a href='vscode-notebook-cell://wsl%2Bubuntu-20.04/home/jeffae/apprentice-jax/summer_data_test.ipynb#W1sdnNjb2RlLXJlbW90ZQ%3D%3D?line=2'>3</a>\u001b[0m summer_tune_more_cov \u001b[39m=\u001b[39m Paramtune(\u001b[39m'\u001b[39m\u001b[39msummer_data/fits.npz\u001b[39m\u001b[39m'\u001b[39m, \u001b[39m'\u001b[39m\u001b[39msummer_data/HEPData-ins1736531-v1-csv.h5\u001b[39m\u001b[39m'\u001b[39m, covariance \u001b[39m=\u001b[39m \u001b[39mTrue\u001b[39;00m, target_bins \u001b[39m=\u001b[39m target_bins)\n\u001b[1;32m      <a href='vscode-notebook-cell://wsl%2Bubuntu-20.04/home/jeffae/apprentice-jax/summer_data_test.ipynb#W1sdnNjb2RlLXJlbW90ZQ%3D%3D?line=3'>4</a>\u001b[0m graph_range \u001b[39m=\u001b[39m [\u001b[39m0.122\u001b[39m, \u001b[39m0.132\u001b[39m]\n",
      "\u001b[0;31mNameError\u001b[0m: name 'Paramtune' is not defined"
     ]
    }
   ],
   "source": [
    "target_bins = list(range(40))\n",
    "summer_tune_more = Paramtune('summer_data/fits.npz', 'summer_data/HEPData-ins1736531-v1-csv.h5', covariance = False, target_bins = target_bins)\n",
    "summer_tune_more_cov = Paramtune('summer_data/fits.npz', 'summer_data/HEPData-ins1736531-v1-csv.h5', covariance = True, target_bins = target_bins)\n",
    "graph_range = [0.122, 0.132]\n",
    "summer_tune_more.graph_objective(graph_range = graph_range)\n",
    "summer_tune_more_cov.graph_objective(new_figure = False, graph_range = graph_range)\n",
    "summer_tune_more.graph_envelope_target()"
   ]
  },
  {
   "cell_type": "code",
   "execution_count": 3,
   "metadata": {},
   "outputs": [
    {
     "name": "stdout",
     "output_type": "stream",
     "text": [
      "Tuning with 100 samples of size 7 out of 10\n",
      "Filtered 782 of 134343 total bins for invalid input\n",
      "Fitting 15243 of 133561: /ATLAS_2019_I1736531/d174-x01-y01[AUX_mur0.5_muf1]#2        "
     ]
    }
   ],
   "source": [
    "import matplotlib.pyplot as plt\n",
    "cycle_colors = plt.rcParams['axes.prop_cycle'].by_key()['color']\n",
    "summer_tune_more.graph_chi2_sample('summer_data/inputdata.h5', num_samples=100, sample_prop = 0.71,\n",
    " color = cycle_colors[0], save_file = 'summer_data/chi2results_no_err.json', num_bins = 350)\n",
    "summer_tune_more_cov.graph_chi2_sample('summer_data/inputdata.h5', num_samples=100, sample_prop = 0.71,\n",
    " color = cycle_colors[1], save_file = 'summer_data/chi2results_w_cov.json', new_figure = False,\n",
    " save_figure = \"summer_data/chi2_graph.pdf\", num_bins = 350)\n"
   ]
  },
  {
   "cell_type": "code",
   "execution_count": null,
   "metadata": {},
   "outputs": [
    {
     "data": {
      "image/png": "[encoded data removed]",
      "text/plain": [
       "<Figure size 432x288 with 1 Axes>"
      ]
     },
     "metadata": {
      "needs_background": "light"
     },
     "output_type": "display_data"
    }
   ],
   "source": [
    "import json\n",
    "plt.figure()\n",
    "plt.title(\"chi2/ndf for 100 mc_run samples\")\n",
    "plt.ylabel(\"Frequency\")\n",
    "plt.xlabel(\"chi2/ndf\")\n",
    "plt.xscale('log')\n",
    "cycle_colors = plt.rcParams['axes.prop_cycle'].by_key()['color']\n",
    "\n",
    "graph_range = [0.1,300]\n",
    "logbins = jnp.geomspace(graph_range[0], graph_range[1], 40)\n",
    "\n",
    "for objective_name, color in zip([\"no_err\", \"w_cov\"],cycle_colors[0:2]):\n",
    "    with open(\"summer_data/chi2results_\" + objective_name + \".json\", 'r') as f:\n",
    "        chi2ndf = json.loads(f.read())[\"chi2ndf\"]\n",
    "    label = objective_name + \": {:.2f} +/- {:.2f}\".format(jnp.mean(jnp.array(chi2ndf)), jnp.std(jnp.array(chi2ndf)))\n",
    "    plt.hist(chi2ndf, bins = logbins, label = label, range = graph_range, facecolor = color)\n",
    "    plt.legend()\n",
    "plt.savefig(\"summer_data/5obs_chi2_graph.pdf\")"
   ]
  }
 ],
 "metadata": {
  "kernelspec": {
   "display_name": "Python 3.8.10 64-bit",
   "language": "python",
   "name": "python3"
  },
  "language_info": {
   "codemirror_mode": {
    "name": "ipython",
    "version": 3
   },
   "file_extension": ".py",
   "mimetype": "text/x-python",
   "name": "python",
   "nbconvert_exporter": "python",
   "pygments_lexer": "ipython3",
   "version": "3.8.10"
  },
  "orig_nbformat": 4,
  "vscode": {
   "interpreter": {
    "hash": "916dbcbb3f70747c44a77c7bcd40155683ae19c65e1c03b4aa3499c5328201f1"
   }
  }
 },
 "nbformat": 4,
 "nbformat_minor": 2
}
