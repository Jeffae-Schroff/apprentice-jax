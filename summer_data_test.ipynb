{
 "cells": [
  {
   "cell_type": "code",
   "execution_count": null,
   "metadata": {},
   "outputs": [],
   "source": [
    "from modules.polyfit import Polyfit\n",
    "from modules.paramtune import Paramtune\n",
    "import jax.numpy as jnp\n",
    "\"\"\", fit_obs = list(range(10))\"\"\"\n",
    "summer_fits = Polyfit('summer_data/fits.npz', input_h5='summer_data/inputdata.h5', order=6, covariance = True, cpu = True, reg_mode = \"ridge_w\", reg_param = 0.01, num_bins=1000)"
   ]
  },
  {
   "cell_type": "code",
   "execution_count": null,
   "metadata": {},
   "outputs": [],
   "source": [
    "#target_bins = list(range(40))\n",
    "#summer_tune_more = Paramtune('summer_data/fits.npz', 'summer_data/HEPData-ins1736531-v1-csv.h5', covariance = False, target_bins = target_bins)\n",
    "summer_tune_more_cov = Paramtune('summer_data/fits.npz', 'summer_data/HEPData-ins1736531-v1-csv.h5', covariance = True)\n",
    "#graph_range = [0.122, 0.132]\n",
    "#summer_tune_more.graph_objective(graph_range = graph_range)\n",
    "#summer_tune_more.graph_envelope_target()\n",
    "\n",
    "\n"
   ]
  },
  {
   "cell_type": "code",
   "execution_count": null,
   "metadata": {},
   "outputs": [],
   "source": [
    "summer_tune_more_cov.graph_tune('/ATLAS_2019_I1736531/d01-x01-y01')\n",
    "summer_fits.graph_bin('/ATLAS_2019_I1736531/d01-x01-y01#3')\n",
    "summer_fits.graph_bin('/ATLAS_2019_I1736531/d01-x01-y01#4')\n",
    "summer_fits.graph_bin('/ATLAS_2019_I1736531/d53-x01-y01[AUX_mur2_muf_1]#20')\n",
    "summer_fits.graph_bin('/ATLAS_2019_I1736531/d53-x01-y01[AUX_mur2_muf_1]#0')"
   ]
  },
  {
   "cell_type": "code",
   "execution_count": null,
   "metadata": {},
   "outputs": [],
   "source": [
    "import matplotlib.pyplot as plt\n",
    "cycle_colors = plt.rcParams['axes.prop_cycle'].by_key()['color']\n",
    "summer_tune_more.graph_chi2_sample('summer_data/inputdata.h5', num_samples=100, sample_prop = 0.71,\n",
    " color = cycle_colors[0], save_file = 'summer_data/chi2results_no_err.json', num_bins = 350)\n",
    "summer_tune_more_cov.graph_chi2_sample('summer_data/inputdata.h5', num_samples=100, sample_prop = 0.71,\n",
    " color = cycle_colors[1], save_file = 'summer_data/chi2results_w_cov.json', new_figure = False,\n",
    " save_figure = \"summer_data/chi2_graph.pdf\", num_bins = 350)\n"
   ]
  },
  {
   "cell_type": "code",
   "execution_count": null,
   "metadata": {},
   "outputs": [],
   "source": [
    "import json\n",
    "plt.figure()\n",
    "plt.title(\"chi2/ndf for 100 mc_run samples\")\n",
    "plt.ylabel(\"Frequency\")\n",
    "plt.xlabel(\"chi2/ndf\")\n",
    "plt.xscale('log')\n",
    "cycle_colors = plt.rcParams['axes.prop_cycle'].by_key()['color']\n",
    "\n",
    "graph_range = [0.1,300]\n",
    "logbins = jnp.geomspace(graph_range[0], graph_range[1], 40)\n",
    "\n",
    "for objective_name, color in zip([\"no_err\", \"w_cov\"],cycle_colors[0:2]):\n",
    "    with open(\"summer_data/chi2results_\" + objective_name + \".json\", 'r') as f:\n",
    "        chi2ndf = json.loads(f.read())[\"chi2ndf\"]\n",
    "    label = objective_name + \": {:.2f} +/- {:.2f}\".format(jnp.mean(jnp.array(chi2ndf)), jnp.std(jnp.array(chi2ndf)))\n",
    "    plt.hist(chi2ndf, bins = logbins, label = label, range = graph_range, facecolor = color)\n",
    "    plt.legend()\n",
    "plt.savefig(\"summer_data/5obs_chi2_graph.pdf\")"
   ]
  }
 ],
 "metadata": {
  "kernelspec": {
   "display_name": "Python 3.8.10 64-bit",
   "language": "python",
   "name": "python3"
  },
  "language_info": {
   "codemirror_mode": {
    "name": "ipython",
    "version": 3
   },
   "file_extension": ".py",
   "mimetype": "text/x-python",
   "name": "python",
   "nbconvert_exporter": "python",
   "pygments_lexer": "ipython3",
   "version": "3.8.10"
  },
  "orig_nbformat": 4,
  "vscode": {
   "interpreter": {
    "hash": "916dbcbb3f70747c44a77c7bcd40155683ae19c65e1c03b4aa3499c5328201f1"
   }
  }
 },
 "nbformat": 4,
 "nbformat_minor": 2
}
