{
 "cells": [
  {
   "cell_type": "code",
   "execution_count": 25,
   "metadata": {},
   "outputs": [
    {
     "name": "stdout",
     "output_type": "stream",
     "text": [
      "4\n",
      "3.76 ms ± 112 µs per loop (mean ± std. dev. of 7 runs, 100 loops each)\n",
      "3.68 ms ± 159 µs per loop (mean ± std. dev. of 7 runs, 100 loops each)\n",
      "end  4\n"
     ]
    }
   ],
   "source": [
    "import jax.numpy as jnp\n",
    "import numpy as np\n",
    "import h5py\n",
    "import timeit\n",
    "from timing import comp_gen_C, poly_gen_C, timing_van_jax, mono_next_grlex, comp_gen_D, poly_gen_D, van_jax_comp\n",
    "\n",
    "\n",
    "X = jnp.array([2, 3, 5, 7, 11, 13])\n",
    "X_van_jax = jnp.array([X])\n",
    "deg = 4\n",
    "\n",
    "\"\"\"\n",
    "print(timing_van_jax(X_van_jax, deg))\n",
    "%timeit timing_van_jax(X_van_jax, deg)\n",
    "\n",
    "\n",
    "print(poly_gen_C(X, deg))\n",
    "%timeit poly_gen_C(X, deg)\n",
    "\"\"\"\n",
    "\n",
    "\n",
    "while deg < 5:\n",
    "    print(deg)\n",
    "    %timeit timing_van_jax(X_van_jax, deg).block_until_ready()\n",
    "    %timeit poly_gen_D(X, deg).block_until_ready()\n",
    "    print('end ', deg)\n",
    "    deg += 1\n",
    "\n",
    "\n",
    "\n"
   ]
  },
  {
   "cell_type": "code",
   "execution_count": 32,
   "metadata": {},
   "outputs": [
    {
     "name": "stdout",
     "output_type": "stream",
     "text": [
      "[3, 0, 0, 0]\n",
      "[2, 1, 0, 0]\n",
      "[2, 0, 1, 0]\n",
      "[2, 0, 0, 1]\n",
      "[1, 2, 0, 0]\n",
      "[1, 1, 1, 0]\n",
      "[1, 1, 0, 1]\n",
      "[1, 0, 2, 0]\n",
      "[1, 0, 1, 1]\n",
      "[1, 0, 0, 2]\n",
      "[0, 3, 0, 0]\n",
      "[0, 2, 1, 0]\n",
      "[0, 2, 0, 1]\n",
      "[0, 1, 2, 0]\n",
      "[0, 1, 1, 1]\n",
      "[0, 1, 0, 2]\n",
      "[0, 0, 3, 0]\n",
      "[0, 0, 2, 1]\n",
      "[0, 0, 1, 2]\n",
      "[0, 0, 0, 3]\n"
     ]
    }
   ],
   "source": [
    "n = 20\n",
    "k = 10\n",
    "\n",
    "x = [0] * n\n",
    "x[0] = k\n",
    "\n",
    "while True:\n",
    "    print(x)\n",
    "    v = x[-1]\n",
    "    if (k==v):\n",
    "        break\n",
    "    x[-1] = 0\n",
    "    j = -2\n",
    "    while (0==x[j]):\n",
    "        j -= 1\n",
    "    x[j] -= 1\n",
    "    x[j+1] = 1 + v"
   ]
  }
 ],
 "metadata": {
  "kernelspec": {
   "display_name": "Python 3.8.10 64-bit",
   "language": "python",
   "name": "python3"
  },
  "language_info": {
   "codemirror_mode": {
    "name": "ipython",
    "version": 3
   },
   "file_extension": ".py",
   "mimetype": "text/x-python",
   "name": "python",
   "nbconvert_exporter": "python",
   "pygments_lexer": "ipython3",
   "version": "3.8.10"
  },
  "orig_nbformat": 4,
  "vscode": {
   "interpreter": {
    "hash": "31f2aee4e71d21fbe5cf8b01ff0e069b9275f58929596ceb00d14d90e3e16cd6"
   }
  }
 },
 "nbformat": 4,
 "nbformat_minor": 2
}
