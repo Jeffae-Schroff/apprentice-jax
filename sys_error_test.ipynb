{
 "cells": [
  {
   "cell_type": "code",
   "execution_count": 4,
   "metadata": {},
   "outputs": [
    {
     "name": "stdout",
     "output_type": "stream",
     "text": [
      "Total error combined into new column, written to  test_data/dummy_data/inputdata.h5\n"
     ]
    }
   ],
   "source": [
    "from modules import sys_error\n",
    "\n",
    "# sys_error.merge_sys_errors('summer_data/inputdata.h5', 'test/output4.h5', True)\n",
    "sys_error.merge_sys_errors('dummy_data/inputdata.h5', 'test_data/dummy_data/inputdata.h5', True, \n",
    "                           include_isr_error=False, include_scale_error=False,include_pdf_error=False)"
   ]
  },
  {
   "cell_type": "code",
   "execution_count": 2,
   "metadata": {},
   "outputs": [
    {
     "data": {
      "text/plain": [
       "array([[  1,   2, 100,   4,   5, 100,   7],\n",
       "       [100,   2,   3, 100,   5, 100,   7]])"
      ]
     },
     "execution_count": 2,
     "metadata": {},
     "output_type": "execute_result"
    }
   ],
   "source": [
    "import numpy as np\n",
    "aa = np.array([])\n",
    "a = np.array([[\"hi\", \"a\", \"b\", \"pancake\", \"bat\"],\n",
    "              [\"bye\", \"z\", \"y\", \"waffle\", \"rat\"]])\n",
    "b = np.array([[\"bhi\", \"ba\", \"b\", \"pancake\", \"bat\"],\n",
    "              [\"bbye\", \"bz\", \"y\", \"waffle\", \"rat\"]])\n",
    "\n",
    "np.concatenate((a, b), axis=0)\n",
    "\n",
    "\n",
    "\n",
    "\n",
    "num_1 = np.array([[1, 2, 3, 4, 5, 100, 7],\n",
    "                  [1, 2, 3, 100, 5, 100, 7]])\n",
    "\n",
    "num_2 = np.array([[1, 2, 100, 4, 5, 6, 7],\n",
    "                  [100, 2, 3, 4, 5, 6, 7]])\n",
    "\n",
    "np.maximum(num_1, num_2)"
   ]
  },
  {
   "cell_type": "code",
   "execution_count": 24,
   "metadata": {},
   "outputs": [
    {
     "data": {
      "text/plain": [
       "<bound method File.close of <HDF5 file \"test.h5\" (mode r+)>>"
      ]
     },
     "execution_count": 24,
     "metadata": {},
     "output_type": "execute_result"
    }
   ],
   "source": [
    "import h5py\n",
    "import numpy as np\n",
    "f = h5py.File('summer_data/inputdata.h5')\n",
    "\n",
    "num_1 = np.array([[1, 2, 3, 4, 5, 100, 7],\n",
    "                  [1, 2, 3, 100, 5, 100, 7]])\n",
    "num_2 = np.array([[1, 2, 100, 4, 5, 6, 7],\n",
    "                  [100, 2, 3, 4, 5, 6, 7]])\n",
    "f2 = h5py.File('test.h5', 'w')\n",
    "f2.create_dataset('num 1', data=num_1)\n",
    "f2.create_dataset('num 2', data=num_2)\n",
    "f.copy('params', f2)\n",
    "f2.close()"
   ]
  },
  {
   "cell_type": "code",
   "execution_count": 26,
   "metadata": {},
   "outputs": [
    {
     "data": {
      "text/plain": [
       "array([[0.1   ],\n",
       "       [0.1056],\n",
       "       [0.1111],\n",
       "       [0.1167],\n",
       "       [0.1222],\n",
       "       [0.1278],\n",
       "       [0.1333],\n",
       "       [0.1389],\n",
       "       [0.1444],\n",
       "       [0.15  ]])"
      ]
     },
     "execution_count": 26,
     "metadata": {},
     "output_type": "execute_result"
    }
   ],
   "source": [
    "f2 = h5py.File('test.h5')\n",
    "f2.keys()\n",
    "np.array(f2['params'][:], dtype=np.float64)"
   ]
  }
 ],
 "metadata": {
  "kernelspec": {
   "display_name": "Python 3",
   "language": "python",
   "name": "python3"
  },
  "language_info": {
   "codemirror_mode": {
    "name": "ipython",
    "version": 3
   },
   "file_extension": ".py",
   "mimetype": "text/x-python",
   "name": "python",
   "nbconvert_exporter": "python",
   "pygments_lexer": "ipython3",
   "version": "3.8.10"
  },
  "orig_nbformat": 4,
  "vscode": {
   "interpreter": {
    "hash": "916dbcbb3f70747c44a77c7bcd40155683ae19c65e1c03b4aa3499c5328201f1"
   }
  }
 },
 "nbformat": 4,
 "nbformat_minor": 2
}
