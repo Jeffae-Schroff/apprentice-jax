{
 "cells": [
  {
   "cell_type": "code",
   "execution_count": 3,
   "metadata": {},
   "outputs": [
    {
     "name": "stdout",
     "output_type": "stream",
     "text": [
      "(40, 10, 10)\n"
     ]
    },
    {
     "ename": "ValueError",
     "evalue": "matmul input operand 1 must have ndim at least 1, but it has ndim 0",
     "output_type": "error",
     "traceback": [
      "\u001b[0;31m---------------------------------------------------------------------------\u001b[0m",
      "\u001b[0;31mValueError\u001b[0m                                Traceback (most recent call last)",
      "\u001b[1;32m/home/jeffae/apprentice-jax/paramtune_test.ipynb Cell 1\u001b[0m in \u001b[0;36m<cell line: 4>\u001b[0;34m()\u001b[0m\n\u001b[1;32m      <a href='vscode-notebook-cell://wsl%2Bubuntu-20.04/home/jeffae/apprentice-jax/paramtune_test.ipynb#W0sdnNjb2RlLXJlbW90ZQ%3D%3D?line=1'>2</a>\u001b[0m \u001b[39mimport\u001b[39;00m \u001b[39mjson\u001b[39;00m\n\u001b[1;32m      <a href='vscode-notebook-cell://wsl%2Bubuntu-20.04/home/jeffae/apprentice-jax/paramtune_test.ipynb#W0sdnNjb2RlLXJlbW90ZQ%3D%3D?line=2'>3</a>\u001b[0m p_guess \u001b[39m=\u001b[39m [\u001b[39m1.7\u001b[39m,\u001b[39m-\u001b[39m\u001b[39m1.1\u001b[39m]\n\u001b[0;32m----> <a href='vscode-notebook-cell://wsl%2Bubuntu-20.04/home/jeffae/apprentice-jax/paramtune_test.ipynb#W0sdnNjb2RlLXJlbW90ZQ%3D%3D?line=3'>4</a>\u001b[0m dummy_tune \u001b[39m=\u001b[39m Paramtune(\u001b[39m'\u001b[39;49m\u001b[39mtarget_data.json\u001b[39;49m\u001b[39m'\u001b[39;49m, p_guess, \u001b[39m\"\u001b[39;49m\u001b[39mdummy_cov.npz\u001b[39;49m\u001b[39m\"\u001b[39;49m, \u001b[39m\"\u001b[39;49m\u001b[39mdummy_chi2res.npz\u001b[39;49m\u001b[39m\"\u001b[39;49m, cov_npz\u001b[39m=\u001b[39;49m\u001b[39m\"\u001b[39;49m\u001b[39mdummy_pceoffs.npz\u001b[39;49m\u001b[39m\"\u001b[39;49m)\n",
      "File \u001b[0;32m~/apprentice-jax/paramtune.py:20\u001b[0m, in \u001b[0;36mParamtune.__init__\u001b[0;34m(self, target_json, initial_guess, pcoeffs_npz, chi2res_npz, **kwargs)\u001b[0m\n\u001b[1;32m     17\u001b[0m args \u001b[39m=\u001b[39m (\u001b[39mlist\u001b[39m(target_values\u001b[39m.\u001b[39mvalues()), \u001b[39mlist\u001b[39m(target_error\u001b[39m.\u001b[39mvalues()),\n\u001b[1;32m     18\u001b[0m         \u001b[39mlist\u001b[39m(mc_fits\u001b[39m.\u001b[39mpcoeffs\u001b[39m.\u001b[39mvalues()), \u001b[39mlist\u001b[39m(mc_fits\u001b[39m.\u001b[39mcov\u001b[39m.\u001b[39mvalues()))\n\u001b[1;32m     19\u001b[0m \u001b[39mprint\u001b[39m(jnp\u001b[39m.\u001b[39marray(\u001b[39mlist\u001b[39m(mc_fits\u001b[39m.\u001b[39mpcoeffs\u001b[39m.\u001b[39mvalues()))\u001b[39m.\u001b[39mshape)\n\u001b[0;32m---> 20\u001b[0m p_opt \u001b[39m=\u001b[39m opt\u001b[39m.\u001b[39;49mminimize(\u001b[39mself\u001b[39;49m\u001b[39m.\u001b[39;49mobjective_func, initial_guess, args \u001b[39m=\u001b[39;49m args, method\u001b[39m=\u001b[39;49m\u001b[39m'\u001b[39;49m\u001b[39mNelder-Mead\u001b[39;49m\u001b[39m'\u001b[39;49m)\n\u001b[1;32m     21\u001b[0m \u001b[39mprint\u001b[39m(p_opt)\n",
      "File \u001b[0;32m~/.local/lib/python3.8/site-packages/scipy/optimize/_minimize.py:611\u001b[0m, in \u001b[0;36mminimize\u001b[0;34m(fun, x0, args, method, jac, hess, hessp, bounds, constraints, tol, callback, options)\u001b[0m\n\u001b[1;32m    608\u001b[0m     constraints \u001b[39m=\u001b[39m standardize_constraints(constraints, x0, meth)\n\u001b[1;32m    610\u001b[0m \u001b[39mif\u001b[39;00m meth \u001b[39m==\u001b[39m \u001b[39m'\u001b[39m\u001b[39mnelder-mead\u001b[39m\u001b[39m'\u001b[39m:\n\u001b[0;32m--> 611\u001b[0m     \u001b[39mreturn\u001b[39;00m _minimize_neldermead(fun, x0, args, callback, bounds\u001b[39m=\u001b[39;49mbounds,\n\u001b[1;32m    612\u001b[0m                                 \u001b[39m*\u001b[39;49m\u001b[39m*\u001b[39;49moptions)\n\u001b[1;32m    613\u001b[0m \u001b[39melif\u001b[39;00m meth \u001b[39m==\u001b[39m \u001b[39m'\u001b[39m\u001b[39mpowell\u001b[39m\u001b[39m'\u001b[39m:\n\u001b[1;32m    614\u001b[0m     \u001b[39mreturn\u001b[39;00m _minimize_powell(fun, x0, args, callback, bounds, \u001b[39m*\u001b[39m\u001b[39m*\u001b[39moptions)\n",
      "File \u001b[0;32m~/.local/lib/python3.8/site-packages/scipy/optimize/optimize.py:750\u001b[0m, in \u001b[0;36m_minimize_neldermead\u001b[0;34m(func, x0, args, callback, maxiter, maxfev, disp, return_all, initial_simplex, xatol, fatol, adaptive, bounds, **unknown_options)\u001b[0m\n\u001b[1;32m    747\u001b[0m fsim \u001b[39m=\u001b[39m np\u001b[39m.\u001b[39mempty((N \u001b[39m+\u001b[39m \u001b[39m1\u001b[39m,), \u001b[39mfloat\u001b[39m)\n\u001b[1;32m    749\u001b[0m \u001b[39mfor\u001b[39;00m k \u001b[39min\u001b[39;00m \u001b[39mrange\u001b[39m(N \u001b[39m+\u001b[39m \u001b[39m1\u001b[39m):\n\u001b[0;32m--> 750\u001b[0m     fsim[k] \u001b[39m=\u001b[39m func(sim[k])\n\u001b[1;32m    752\u001b[0m ind \u001b[39m=\u001b[39m np\u001b[39m.\u001b[39margsort(fsim)\n\u001b[1;32m    753\u001b[0m fsim \u001b[39m=\u001b[39m np\u001b[39m.\u001b[39mtake(fsim, ind, \u001b[39m0\u001b[39m)\n",
      "File \u001b[0;32m~/.local/lib/python3.8/site-packages/scipy/optimize/optimize.py:464\u001b[0m, in \u001b[0;36m_wrap_function.<locals>.function_wrapper\u001b[0;34m(x, *wrapper_args)\u001b[0m\n\u001b[1;32m    462\u001b[0m \u001b[39mdef\u001b[39;00m \u001b[39mfunction_wrapper\u001b[39m(x, \u001b[39m*\u001b[39mwrapper_args):\n\u001b[1;32m    463\u001b[0m     ncalls[\u001b[39m0\u001b[39m] \u001b[39m+\u001b[39m\u001b[39m=\u001b[39m \u001b[39m1\u001b[39m\n\u001b[0;32m--> 464\u001b[0m     \u001b[39mreturn\u001b[39;00m function(np\u001b[39m.\u001b[39;49mcopy(x), \u001b[39m*\u001b[39;49m(wrapper_args \u001b[39m+\u001b[39;49m args))\n",
      "File \u001b[0;32m~/apprentice-jax/paramtune.py:32\u001b[0m, in \u001b[0;36mParamtune.objective_func\u001b[0;34m(self, p, d, d_sig, coeff, cov)\u001b[0m\n\u001b[1;32m     30\u001b[0m \u001b[39mif\u001b[39;00m d_sig[i] \u001b[39m==\u001b[39m \u001b[39m0.0\u001b[39m:\n\u001b[1;32m     31\u001b[0m     \u001b[39mcontinue\u001b[39;00m\n\u001b[0;32m---> 32\u001b[0m f_sig \u001b[39m=\u001b[39m jnp\u001b[39m.\u001b[39msqrt(jnp\u001b[39m.\u001b[39;49mmatmul(poly, jnp\u001b[39m.\u001b[39;49mmatmul(cov[i], poly\u001b[39m.\u001b[39;49mT))) \u001b[39m#Finding uncertainty of surrogate function at point p\u001b[39;00m\n\u001b[1;32m     33\u001b[0m adj_res_sq \u001b[39m=\u001b[39m (d[i]\u001b[39m-\u001b[39mjnp\u001b[39m.\u001b[39mmatmul(coeff[i], poly\u001b[39m.\u001b[39mT))\u001b[39m*\u001b[39m\u001b[39m*\u001b[39m\u001b[39m2\u001b[39m\u001b[39m/\u001b[39m(d_sig[i]\u001b[39m*\u001b[39m\u001b[39m*\u001b[39m\u001b[39m2\u001b[39m \u001b[39m+\u001b[39m f_sig\u001b[39m*\u001b[39m\u001b[39m*\u001b[39m\u001b[39m2\u001b[39m) \u001b[39m#Inner part of summation\u001b[39;00m\n\u001b[1;32m     34\u001b[0m sum_over \u001b[39m=\u001b[39m sum_over \u001b[39m+\u001b[39m adj_res_sq\n",
      "    \u001b[0;31m[... skipping hidden 14 frame]\u001b[0m\n",
      "File \u001b[0;32m~/.local/lib/python3.8/site-packages/jax/_src/numpy/lax_numpy.py:2771\u001b[0m, in \u001b[0;36mmatmul\u001b[0;34m(a, b, precision)\u001b[0m\n\u001b[1;32m   2768\u001b[0m   \u001b[39mif\u001b[39;00m ndim(x) \u001b[39m<\u001b[39m \u001b[39m1\u001b[39m:\n\u001b[1;32m   2769\u001b[0m     msg \u001b[39m=\u001b[39m (\u001b[39mf\u001b[39m\u001b[39m\"\u001b[39m\u001b[39mmatmul input operand \u001b[39m\u001b[39m{\u001b[39;00mi\u001b[39m}\u001b[39;00m\u001b[39m must have ndim at least 1, \u001b[39m\u001b[39m\"\u001b[39m\n\u001b[1;32m   2770\u001b[0m            \u001b[39mf\u001b[39m\u001b[39m\"\u001b[39m\u001b[39mbut it has ndim \u001b[39m\u001b[39m{\u001b[39;00mndim(x)\u001b[39m}\u001b[39;00m\u001b[39m\"\u001b[39m)\n\u001b[0;32m-> 2771\u001b[0m     \u001b[39mraise\u001b[39;00m \u001b[39mValueError\u001b[39;00m(msg)\n\u001b[1;32m   2773\u001b[0m a, b \u001b[39m=\u001b[39m _promote_dtypes(a, b)\n\u001b[1;32m   2775\u001b[0m a_is_mat, b_is_mat \u001b[39m=\u001b[39m (ndim(a) \u001b[39m>\u001b[39m \u001b[39m1\u001b[39m), (ndim(b) \u001b[39m>\u001b[39m \u001b[39m1\u001b[39m)\n",
      "\u001b[0;31mValueError\u001b[0m: matmul input operand 1 must have ndim at least 1, but it has ndim 0"
     ]
    }
   ],
   "source": [
    "from paramtune import Paramtune\n",
    "import json\n",
    "p_guess = [1.7,-1.1]\n",
    "dummy_tune = Paramtune('target_data.json', p_guess, \"dummy_cov.npz\", \"dummy_chi2res.npz\", cov_npz=\"dummy_pceoffs.npz\")\n"
   ]
  },
  {
   "cell_type": "code",
   "execution_count": null,
   "metadata": {},
   "outputs": [
    {
     "data": {
      "text/plain": [
       "'3.8.10'"
      ]
     },
     "execution_count": 2,
     "metadata": {},
     "output_type": "execute_result"
    }
   ],
   "source": [
    "from platform import python_version\n",
    "python_version()"
   ]
  }
 ],
 "metadata": {
  "kernelspec": {
   "display_name": "Python 3.8.10 64-bit",
   "language": "python",
   "name": "python3"
  },
  "language_info": {
   "codemirror_mode": {
    "name": "ipython",
    "version": 3
   },
   "file_extension": ".py",
   "mimetype": "text/x-python",
   "name": "python",
   "nbconvert_exporter": "python",
   "pygments_lexer": "ipython3",
   "version": "3.8.10"
  },
  "orig_nbformat": 4,
  "vscode": {
   "interpreter": {
    "hash": "916dbcbb3f70747c44a77c7bcd40155683ae19c65e1c03b4aa3499c5328201f1"
   }
  }
 },
 "nbformat": 4,
 "nbformat_minor": 2
}
