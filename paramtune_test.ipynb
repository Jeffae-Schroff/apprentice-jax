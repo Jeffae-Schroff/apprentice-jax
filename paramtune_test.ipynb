{
 "cells": [
  {
   "cell_type": "code",
   "execution_count": 1,
   "metadata": {},
   "outputs": [
    {
     "name": "stdout",
     "output_type": "stream",
     "text": [
      "(40, 10)\n",
      "[  80.62972621  104.38691504  -78.86316804   22.8934713  -118.4974257\n",
      "    7.38508711  -13.12712689  -45.0598705     9.27279875    0.98583797]\n",
      " final_simplex: (array([[ 1.48528662, -0.99660733],\n",
      "       [ 1.48536734, -0.99657763],\n",
      "       [ 1.48534484, -0.99664115]]), array([47.08509822, 47.08514451, 47.08517072]))\n",
      "           fun: 47.08509821845308\n",
      "       message: 'Optimization terminated successfully.'\n",
      "          nfev: 58\n",
      "           nit: 30\n",
      "        status: 0\n",
      "       success: True\n",
      "             x: array([ 1.48528662, -0.99660733])\n"
     ]
    }
   ],
   "source": [
    "from paramtune import Paramtune\n",
    "from polyfit import Polyfit\n",
    "import json\n",
    "p_guess = [1.7,-1.1]\n",
    "dummy_tune = Paramtune('target_data.json', p_guess, \"dummy_pceoffs.npz\", \"dummy_chi2res.npz\", cov_npz=\"dummy_cov.npz\")"
   ]
  },
  {
   "cell_type": "code",
   "execution_count": null,
   "metadata": {},
   "outputs": [
    {
     "data": {
      "text/plain": [
       "'3.8.10'"
      ]
     },
     "execution_count": 2,
     "metadata": {},
     "output_type": "execute_result"
    }
   ],
   "source": [
    "from platform import python_version\n",
    "python_version()"
   ]
  }
 ],
 "metadata": {
  "kernelspec": {
   "display_name": "Python 3.8.10 64-bit",
   "language": "python",
   "name": "python3"
  },
  "language_info": {
   "codemirror_mode": {
    "name": "ipython",
    "version": 3
   },
   "file_extension": ".py",
   "mimetype": "text/x-python",
   "name": "python",
   "nbconvert_exporter": "python",
   "pygments_lexer": "ipython3",
   "version": "3.8.10"
  },
  "orig_nbformat": 4,
  "vscode": {
   "interpreter": {
    "hash": "916dbcbb3f70747c44a77c7bcd40155683ae19c65e1c03b4aa3499c5328201f1"
   }
  }
 },
 "nbformat": 4,
 "nbformat_minor": 2
}
