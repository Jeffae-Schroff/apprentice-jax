{
 "cells": [
  {
   "cell_type": "code",
   "execution_count": 1,
   "metadata": {},
   "outputs": [
    {
     "name": "stdout",
     "output_type": "stream",
     "text": [
      "Fitting observables:  ['/func0', '/func1']\n",
      "<class 'dict'>\n",
      "Tuned Parameters:  [ 1.48644227 -0.9913453 ]\n"
     ]
    }
   ],
   "source": [
    "from modules.polyfit import Polyfit\n",
    "from modules.paramtune import Paramtune\n",
    "import json\n",
    "\n",
    "dummy_fits = Polyfit('dummy_data/fits.npz', input_h5='dummy_data/inputdata.h5', order=3, covariance = False)\n",
    "obs_sample = None #don't sample\n",
    "p_guess = [1.7,-1.1]\n",
    "dummy_tune = Paramtune('dummy_data/fits.npz', 'dummy_data/target_data.json', obs_sample, p_guess, covariance = False)"
   ]
  },
  {
   "cell_type": "code",
   "execution_count": 2,
   "metadata": {},
   "outputs": [
    {
     "name": "stdout",
     "output_type": "stream",
     "text": [
      "\\func0\n",
      "{'/func0': [0, 1, 2, 3, 4, 5, 6, 7, 8, 9, 10, 11, 12, 13, 14, 15, 16, 17, 18, 19], '/func1': [20, 21, 22, 23, 24, 25, 26, 27, 28, 29, 30, 31, 32, 33, 34, 35, 36, 37, 38, 39]}\n"
     ]
    },
    {
     "ename": "KeyError",
     "evalue": "'\\\\func0'",
     "output_type": "error",
     "traceback": [
      "\u001b[0;31m---------------------------------------------------------------------------\u001b[0m",
      "\u001b[0;31mKeyError\u001b[0m                                  Traceback (most recent call last)",
      "\u001b[1;32m/home/jeffae/apprentice-jax/paramtune_test.ipynb Cell 2\u001b[0m in \u001b[0;36m<cell line: 1>\u001b[0;34m()\u001b[0m\n\u001b[0;32m----> <a href='vscode-notebook-cell://wsl%2Bubuntu-20.04/home/jeffae/apprentice-jax/paramtune_test.ipynb#W1sdnNjb2RlLXJlbW90ZQ%3D%3D?line=0'>1</a>\u001b[0m dummy_tune\u001b[39m.\u001b[39;49mgraph_tune(\u001b[39m\"\u001b[39;49m\u001b[39m\\\\\u001b[39;49;00m\u001b[39mfunc0\u001b[39;49m\u001b[39m\"\u001b[39;49m)\n\u001b[1;32m      <a href='vscode-notebook-cell://wsl%2Bubuntu-20.04/home/jeffae/apprentice-jax/paramtune_test.ipynb#W1sdnNjb2RlLXJlbW90ZQ%3D%3D?line=1'>2</a>\u001b[0m dummy_tune\u001b[39m.\u001b[39mgraph_tune(\u001b[39m\"\u001b[39m\u001b[39m\\\\\u001b[39;00m\u001b[39mfunc1\u001b[39m\u001b[39m\"\u001b[39m)\n",
      "File \u001b[0;32m~/apprentice-jax/modules/paramtune.py:32\u001b[0m, in \u001b[0;36mParamtune.graph_tune\u001b[0;34m(self, obs_name, graph_file)\u001b[0m\n\u001b[1;32m     30\u001b[0m \u001b[39mprint\u001b[39m(obs_name)\n\u001b[1;32m     31\u001b[0m \u001b[39mprint\u001b[39m(\u001b[39mself\u001b[39m\u001b[39m.\u001b[39mfits\u001b[39m.\u001b[39mindex)\n\u001b[0;32m---> 32\u001b[0m obs_bin_ids \u001b[39m=\u001b[39m \u001b[39mself\u001b[39;49m\u001b[39m.\u001b[39;49mfits\u001b[39m.\u001b[39;49mindex[obs_name]\n\u001b[1;32m     33\u001b[0m poly_opt \u001b[39m=\u001b[39m timing_van_jax([\u001b[39mself\u001b[39m\u001b[39m.\u001b[39mp_opt\u001b[39m.\u001b[39mx], \u001b[39m3\u001b[39m)[\u001b[39m0\u001b[39m]\n\u001b[1;32m     34\u001b[0m tuned_y \u001b[39m=\u001b[39m jnp\u001b[39m.\u001b[39mmatmul(jnp\u001b[39m.\u001b[39marray([\u001b[39mself\u001b[39m\u001b[39m.\u001b[39mfits\u001b[39m.\u001b[39mp_coeffs[b] \u001b[39mfor\u001b[39;00m b \u001b[39min\u001b[39;00m obs_bin_ids]), poly_opt\u001b[39m.\u001b[39mT)\n",
      "\u001b[0;31mKeyError\u001b[0m: '\\\\func0'"
     ]
    }
   ],
   "source": [
    "dummy_tune.graph_tune('/func0')\n",
    "dummy_tune.graph_tune('/func1')"
   ]
  },
  {
   "cell_type": "code",
   "execution_count": null,
   "metadata": {},
   "outputs": [],
   "source": []
  }
 ],
 "metadata": {
  "kernelspec": {
   "display_name": "Python 3.8.10 64-bit",
   "language": "python",
   "name": "python3"
  },
  "language_info": {
   "codemirror_mode": {
    "name": "ipython",
    "version": 3
   },
   "file_extension": ".py",
   "mimetype": "text/x-python",
   "name": "python",
   "nbconvert_exporter": "python",
   "pygments_lexer": "ipython3",
   "version": "3.8.10"
  },
  "orig_nbformat": 4,
  "vscode": {
   "interpreter": {
    "hash": "916dbcbb3f70747c44a77c7bcd40155683ae19c65e1c03b4aa3499c5328201f1"
   }
  }
 },
 "nbformat": 4,
 "nbformat_minor": 2
}
