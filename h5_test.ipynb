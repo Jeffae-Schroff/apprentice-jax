{
 "cells": [
  {
   "cell_type": "code",
   "execution_count": 1,
   "metadata": {},
   "outputs": [],
   "source": [
    "import h5py\n"
   ]
  },
  {
   "cell_type": "code",
   "execution_count": 2,
   "metadata": {},
   "outputs": [
    {
     "name": "stdout",
     "output_type": "stream",
     "text": [
      "<KeysViewHDF5 ['errors', 'index', 'params', 'runs', 'values', 'xmax', 'xmin']>\n",
      "errors\n",
      "[0.05383172 0.0333651  0.04414547 0.05096087 0.03651344 0.03549265\n",
      " 0.02301487 0.05409919 0.04584694 0.03488499 0.02839866 0.06614004\n",
      " 0.05051388 0.03537484 0.02138669 0.02551554 0.03328605 0.04986167\n",
      " 0.02026512 0.05812644 0.03371468 0.02062101 0.03968411 0.04177504\n",
      " 0.03226932 0.04093197 0.03923245 0.0497663  0.01946736 0.06030138\n",
      " 0.05703707 0.0317181  0.02847574 0.0501026  0.03902713 0.04663199\n",
      " 0.02157158 0.05347788 0.02565545 0.04519049 0.0411179  0.03710672]\n",
      "index\n",
      "b'/func0#0'\n",
      "params\n",
      "[ 1.29908323 -1.14741315]\n",
      "runs\n",
      "b'../MC/000000'\n",
      "values\n",
      "[4.974412   2.492576   3.27064    4.552948   2.96389267 2.76797133\n",
      " 1.63777933 4.88243267 4.26869267 2.45834    1.807726   6.34289467\n",
      " 4.07663    3.09181    1.47149133 1.701142   2.62115733 4.36851933\n",
      " 1.44821133 5.54064133 2.23663267 1.204874   3.43674467 3.30419133\n",
      " 2.359856   3.63903333 3.23851933 4.266862   1.17176667 5.06567467\n",
      " 5.45114467 2.126532   1.85267467 3.87413333 2.89222333 3.833762\n",
      " 1.402982   4.41896867 1.50100867 3.649254   3.61486867 2.960642  ]\n",
      "xmax\n",
      "0.15\n",
      "xmin\n",
      "0.0\n"
     ]
    }
   ],
   "source": [
    "f = h5py.File('inputdata.h5', \"r+\")\n",
    "print(f.keys())\n",
    "for k in f.keys():\n",
    "    print(k)\n",
    "    for i in range(1):\n",
    "        print(f[k][i])\n",
    "f.close()"
   ]
  }
 ],
 "metadata": {
  "kernelspec": {
   "display_name": "Python 3.8.10 64-bit",
   "language": "python",
   "name": "python3"
  },
  "language_info": {
   "codemirror_mode": {
    "name": "ipython",
    "version": 3
   },
   "file_extension": ".py",
   "mimetype": "text/x-python",
   "name": "python",
   "nbconvert_exporter": "python",
   "pygments_lexer": "ipython3",
   "version": "3.8.10"
  },
  "orig_nbformat": 4,
  "vscode": {
   "interpreter": {
    "hash": "916dbcbb3f70747c44a77c7bcd40155683ae19c65e1c03b4aa3499c5328201f1"
   }
  }
 },
 "nbformat": 4,
 "nbformat_minor": 2
}
