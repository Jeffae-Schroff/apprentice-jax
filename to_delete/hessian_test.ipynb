{
 "cells": [
  {
   "cell_type": "code",
   "execution_count": 1,
   "metadata": {},
   "outputs": [
    {
     "name": "stderr",
     "output_type": "stream",
     "text": [
      "WARNING:absl:No GPU/TPU found, falling back to CPU. (Set TF_CPP_MIN_LOG_LEVEL=0 and rerun for more info.)\n"
     ]
    },
    {
     "name": "stdout",
     "output_type": "stream",
     "text": [
      "loading  summer_data/fits.npz\n",
      "Objective function min:  0.6424796754084697\n",
      "Hessian at p_opt:  [[870.07516019]]\n",
      "jacfwd:  [-24.83300516]\n"
     ]
    }
   ],
   "source": [
    "import jax.numpy as jnp\n",
    "import jax\n",
    "from modules.polyfit import Polyfit\n",
    "\n",
    "target_values = jnp.load('obj_args/target_values.npy')\n",
    "target_error = jnp.load('obj_args/target_error.npy')\n",
    "coeffs = jnp.load('obj_args/coeffs.npy')\n",
    "coeff_cov = jnp.load('obj_args/coeff_cov.npy')\n",
    "target_binidns = jnp.load('obj_args/targ_bins.npy')\n",
    "\n",
    "p_opt = jnp.array(jnp.load('obj_args/p_opt.npy'))\n",
    "\n",
    "\n",
    "fits = Polyfit('summer_data/fits.npz', order=3, covariance = True, cpu = True, reg_mode = \"lasso_w\", reg_param = 0.01)\n",
    "\n",
    "def objective_func(params, d, d_sig, coeff, cov):\n",
    "    sum_over = 0\n",
    "    poly = fits.vandermonde_jax(jnp.array([params]), fits.order)[0]\n",
    "    norm = jnp.sum(fits.obs_weights)\n",
    "    #Loop over the bins\n",
    "    for i in target_binidns:\n",
    "        f_sig = jnp.sqrt(jnp.matmul(poly, jnp.matmul(cov[i], poly.T))) #Finding uncertainty of surrogate function at point p\n",
    "        adj_res_sq = fits.obs_weights[i]*(d[i]-jnp.matmul(coeff[i], poly.T))**2/(d_sig[i]**2 + f_sig**2) #Inner part of summation\n",
    "        sum_over = sum_over + adj_res_sq\n",
    "    return sum_over/norm\n",
    "\n",
    "def obj_mini(param):\n",
    "    return objective_func(param, target_values, target_error, coeffs, coeff_cov)\n",
    "\n",
    "def Hessian(func):\n",
    "    return jax.jacfwd(jax.jacrev(func))\n",
    "\n",
    "hess = Hessian(obj_mini)(p_opt)\n",
    "print(\"Objective function min: \", objective_func(p_opt, target_values, target_error, coeffs, coeff_cov))\n",
    "print(\"Hessian at p_opt: \", hess)\n",
    "print(\"jacfwd: \", jax.jacrev(obj_mini)(p_opt))\n",
    "\n",
    "\n",
    "\n",
    "\n",
    "\n"
   ]
  },
  {
   "cell_type": "code",
   "execution_count": 2,
   "metadata": {},
   "outputs": [
    {
     "data": {
      "image/png": "[encoded data removed]",
      "text/plain": [
       "<Figure size 640x480 with 1 Axes>"
      ]
     },
     "metadata": {},
     "output_type": "display_data"
    }
   ],
   "source": [
    "import matplotlib.pyplot as plt\n",
    "import numpy as np\n",
    "\n",
    "graph_spread = 0.1\n",
    "density = 50\n",
    "n = 450\n",
    "x = jnp.arange(p_opt[0]-graph_spread, p_opt[0]+graph_spread, 2*graph_spread/density)\n",
    "y = jnp.array([obj_mini(jnp.array([p])) for p in x])\n",
    "hess = jnp.array([jnp.array([1000231029747])])\n",
    "plt.plot(x, y)\n",
    "plt.axvline(p_opt[0])\n",
    "if jnp.isnan(hess)[0][0]:\n",
    "    fil_nam = 'ZFAIL/'+str(n)+'.png'\n",
    "    plt.savefig(fil_nam)\n",
    "else:\n",
    "    fil_nam = 'ZWORK/'+str(n)+'.png'\n",
    "    plt.savefig(fil_nam)\n"
   ]
  },
  {
   "cell_type": "code",
   "execution_count": 10,
   "metadata": {},
   "outputs": [
    {
     "data": {
      "text/plain": [
       "DeviceArray([0.15], dtype=float64)"
      ]
     },
     "execution_count": 10,
     "metadata": {},
     "output_type": "execute_result"
    }
   ],
   "source": [
    "p_opt\n"
   ]
  },
  {
   "cell_type": "code",
   "execution_count": 19,
   "metadata": {},
   "outputs": [
    {
     "name": "stdout",
     "output_type": "stream",
     "text": [
      "15.0\n",
      "[[14.]]\n",
      "[17.]\n",
      "[17.]\n"
     ]
    }
   ],
   "source": [
    "def cubic(x):\n",
    "    return jnp.sum(fits.vandermonde_jax([x], 3))\n",
    "\n",
    "a = jnp.array([2.0])\n",
    "\n",
    "print(cubic(a))\n",
    "print(Hessian(cubic)(a))\n",
    "print(jax.jacfwd(cubic)(a))\n",
    "print(jax.jacrev(cubic)(a))"
   ]
  },
  {
   "cell_type": "code",
   "execution_count": 14,
   "metadata": {},
   "outputs": [
    {
     "data": {
      "text/plain": [
       "DeviceArray([[2.]], dtype=float64)"
      ]
     },
     "execution_count": 14,
     "metadata": {},
     "output_type": "execute_result"
    }
   ],
   "source": [
    "jnp.array([a])"
   ]
  },
  {
   "cell_type": "code",
   "execution_count": 26,
   "metadata": {},
   "outputs": [
    {
     "name": "stdout",
     "output_type": "stream",
     "text": [
      "/ATLAS_2019_I1736531/d0-x01-y01\n",
      "/ATLAS_2019_I1736531/d1-x01-y01\n",
      "/ATLAS_2019_I1736531/d2-x01-y01\n",
      "/ATLAS_2019_I1736531/d3-x01-y01\n",
      "/ATLAS_2019_I1736531/d4-x01-y01\n",
      "/ATLAS_2019_I1736531/d5-x01-y01\n",
      "/ATLAS_2019_I1736531/d6-x01-y01\n",
      "/ATLAS_2019_I1736531/d7-x01-y01\n",
      "/ATLAS_2019_I1736531/d8-x01-y01\n",
      "/ATLAS_2019_I1736531/d9-x01-y01\n",
      "/ATLAS_2019_I1736531/d10-x01-y01\n",
      "/ATLAS_2019_I1736531/d11-x01-y01\n",
      "/ATLAS_2019_I1736531/d12-x01-y01\n",
      "/ATLAS_2019_I1736531/d13-x01-y01\n",
      "/ATLAS_2019_I1736531/d14-x01-y01\n",
      "/ATLAS_2019_I1736531/d15-x01-y01\n",
      "/ATLAS_2019_I1736531/d16-x01-y01\n",
      "/ATLAS_2019_I1736531/d17-x01-y01\n",
      "/ATLAS_2019_I1736531/d18-x01-y01\n",
      "/ATLAS_2019_I1736531/d19-x01-y01\n",
      "/ATLAS_2019_I1736531/d20-x01-y01\n",
      "/ATLAS_2019_I1736531/d21-x01-y01\n",
      "/ATLAS_2019_I1736531/d22-x01-y01\n",
      "/ATLAS_2019_I1736531/d23-x01-y01\n",
      "/ATLAS_2019_I1736531/d24-x01-y01\n",
      "/ATLAS_2019_I1736531/d25-x01-y01\n",
      "/ATLAS_2019_I1736531/d26-x01-y01\n",
      "/ATLAS_2019_I1736531/d27-x01-y01\n",
      "/ATLAS_2019_I1736531/d28-x01-y01\n",
      "/ATLAS_2019_I1736531/d29-x01-y01\n",
      "/ATLAS_2019_I1736531/d30-x01-y01\n",
      "/ATLAS_2019_I1736531/d31-x01-y01\n",
      "/ATLAS_2019_I1736531/d32-x01-y01\n",
      "/ATLAS_2019_I1736531/d33-x01-y01\n",
      "/ATLAS_2019_I1736531/d34-x01-y01\n",
      "/ATLAS_2019_I1736531/d35-x01-y01\n",
      "/ATLAS_2019_I1736531/d36-x01-y01\n",
      "/ATLAS_2019_I1736531/d37-x01-y01\n",
      "/ATLAS_2019_I1736531/d38-x01-y01\n",
      "/ATLAS_2019_I1736531/d39-x01-y01\n",
      "/ATLAS_2019_I1736531/d40-x01-y01\n",
      "/ATLAS_2019_I1736531/d41-x01-y01\n",
      "/ATLAS_2019_I1736531/d42-x01-y01\n",
      "/ATLAS_2019_I1736531/d43-x01-y01\n",
      "/ATLAS_2019_I1736531/d44-x01-y01\n",
      "/ATLAS_2019_I1736531/d45-x01-y01\n",
      "/ATLAS_2019_I1736531/d46-x01-y01\n",
      "/ATLAS_2019_I1736531/d47-x01-y01\n",
      "/ATLAS_2019_I1736531/d48-x01-y01\n",
      "/ATLAS_2019_I1736531/d49-x01-y01\n",
      "/ATLAS_2019_I1736531/d50-x01-y01\n",
      "/ATLAS_2019_I1736531/d51-x01-y01\n",
      "/ATLAS_2019_I1736531/d52-x01-y01\n",
      "/ATLAS_2019_I1736531/d53-x01-y01\n",
      "/ATLAS_2019_I1736531/d54-x01-y01\n",
      "/ATLAS_2019_I1736531/d55-x01-y01\n",
      "/ATLAS_2019_I1736531/d56-x01-y01\n",
      "/ATLAS_2019_I1736531/d57-x01-y01\n",
      "/ATLAS_2019_I1736531/d58-x01-y01\n",
      "/ATLAS_2019_I1736531/d59-x01-y01\n",
      "/ATLAS_2019_I1736531/d60-x01-y01\n",
      "/ATLAS_2019_I1736531/d61-x01-y01\n",
      "/ATLAS_2019_I1736531/d62-x01-y01\n",
      "/ATLAS_2019_I1736531/d63-x01-y01\n",
      "/ATLAS_2019_I1736531/d64-x01-y01\n",
      "/ATLAS_2019_I1736531/d65-x01-y01\n",
      "/ATLAS_2019_I1736531/d66-x01-y01\n",
      "/ATLAS_2019_I1736531/d67-x01-y01\n",
      "/ATLAS_2019_I1736531/d68-x01-y01\n",
      "/ATLAS_2019_I1736531/d69-x01-y01\n",
      "/ATLAS_2019_I1736531/d70-x01-y01\n",
      "/ATLAS_2019_I1736531/d71-x01-y01\n",
      "/ATLAS_2019_I1736531/d72-x01-y01\n",
      "/ATLAS_2019_I1736531/d73-x01-y01\n",
      "/ATLAS_2019_I1736531/d74-x01-y01\n",
      "/ATLAS_2019_I1736531/d75-x01-y01\n",
      "/ATLAS_2019_I1736531/d76-x01-y01\n",
      "/ATLAS_2019_I1736531/d77-x01-y01\n",
      "/ATLAS_2019_I1736531/d78-x01-y01\n",
      "/ATLAS_2019_I1736531/d79-x01-y01\n",
      "/ATLAS_2019_I1736531/d80-x01-y01\n",
      "/ATLAS_2019_I1736531/d81-x01-y01\n",
      "/ATLAS_2019_I1736531/d82-x01-y01\n",
      "/ATLAS_2019_I1736531/d83-x01-y01\n",
      "/ATLAS_2019_I1736531/d84-x01-y01\n",
      "/ATLAS_2019_I1736531/d85-x01-y01\n",
      "/ATLAS_2019_I1736531/d86-x01-y01\n",
      "/ATLAS_2019_I1736531/d87-x01-y01\n",
      "/ATLAS_2019_I1736531/d88-x01-y01\n",
      "/ATLAS_2019_I1736531/d89-x01-y01\n",
      "/ATLAS_2019_I1736531/d90-x01-y01\n",
      "/ATLAS_2019_I1736531/d91-x01-y01\n",
      "/ATLAS_2019_I1736531/d92-x01-y01\n",
      "/ATLAS_2019_I1736531/d93-x01-y01\n",
      "/ATLAS_2019_I1736531/d94-x01-y01\n",
      "/ATLAS_2019_I1736531/d95-x01-y01\n",
      "/ATLAS_2019_I1736531/d96-x01-y01\n",
      "/ATLAS_2019_I1736531/d97-x01-y01\n",
      "/ATLAS_2019_I1736531/d98-x01-y01\n",
      "/ATLAS_2019_I1736531/d99-x01-y01\n",
      "/ATLAS_2019_I1736531/d100-x01-y01\n",
      "/ATLAS_2019_I1736531/d101-x01-y01\n",
      "/ATLAS_2019_I1736531/d102-x01-y01\n",
      "/ATLAS_2019_I1736531/d103-x01-y01\n",
      "/ATLAS_2019_I1736531/d104-x01-y01\n",
      "/ATLAS_2019_I1736531/d105-x01-y01\n",
      "/ATLAS_2019_I1736531/d106-x01-y01\n",
      "/ATLAS_2019_I1736531/d107-x01-y01\n",
      "/ATLAS_2019_I1736531/d108-x01-y01\n",
      "/ATLAS_2019_I1736531/d109-x01-y01\n",
      "/ATLAS_2019_I1736531/d110-x01-y01\n",
      "/ATLAS_2019_I1736531/d111-x01-y01\n",
      "/ATLAS_2019_I1736531/d112-x01-y01\n",
      "/ATLAS_2019_I1736531/d113-x01-y01\n",
      "/ATLAS_2019_I1736531/d114-x01-y01\n",
      "/ATLAS_2019_I1736531/d115-x01-y01\n",
      "/ATLAS_2019_I1736531/d116-x01-y01\n",
      "/ATLAS_2019_I1736531/d117-x01-y01\n",
      "/ATLAS_2019_I1736531/d118-x01-y01\n",
      "/ATLAS_2019_I1736531/d119-x01-y01\n",
      "/ATLAS_2019_I1736531/d120-x01-y01\n",
      "/ATLAS_2019_I1736531/d121-x01-y01\n",
      "/ATLAS_2019_I1736531/d122-x01-y01\n",
      "/ATLAS_2019_I1736531/d123-x01-y01\n",
      "/ATLAS_2019_I1736531/d124-x01-y01\n",
      "/ATLAS_2019_I1736531/d125-x01-y01\n",
      "/ATLAS_2019_I1736531/d126-x01-y01\n",
      "/ATLAS_2019_I1736531/d127-x01-y01\n",
      "/ATLAS_2019_I1736531/d128-x01-y01\n",
      "/ATLAS_2019_I1736531/d129-x01-y01\n",
      "/ATLAS_2019_I1736531/d130-x01-y01\n",
      "/ATLAS_2019_I1736531/d131-x01-y01\n",
      "/ATLAS_2019_I1736531/d132-x01-y01\n",
      "/ATLAS_2019_I1736531/d133-x01-y01\n",
      "/ATLAS_2019_I1736531/d134-x01-y01\n",
      "/ATLAS_2019_I1736531/d135-x01-y01\n",
      "/ATLAS_2019_I1736531/d136-x01-y01\n",
      "/ATLAS_2019_I1736531/d137-x01-y01\n",
      "/ATLAS_2019_I1736531/d138-x01-y01\n",
      "/ATLAS_2019_I1736531/d139-x01-y01\n",
      "/ATLAS_2019_I1736531/d140-x01-y01\n",
      "/ATLAS_2019_I1736531/d141-x01-y01\n",
      "/ATLAS_2019_I1736531/d142-x01-y01\n",
      "/ATLAS_2019_I1736531/d143-x01-y01\n",
      "/ATLAS_2019_I1736531/d144-x01-y01\n",
      "/ATLAS_2019_I1736531/d145-x01-y01\n",
      "/ATLAS_2019_I1736531/d146-x01-y01\n",
      "/ATLAS_2019_I1736531/d147-x01-y01\n",
      "/ATLAS_2019_I1736531/d148-x01-y01\n",
      "/ATLAS_2019_I1736531/d149-x01-y01\n"
     ]
    },
    {
     "data": {
      "text/plain": [
       "'01'"
      ]
     },
     "execution_count": 26,
     "metadata": {},
     "output_type": "execute_result"
    }
   ],
   "source": [
    "a = '/ATLAS_2019_I1736531/d'\n",
    "e = '-x01-y01'\n",
    "\n",
    "for i in jnp.arange(0, 150, 1):\n",
    "    print(a+str(i)+e)\n",
    "\n",
    "'0'+str(1)"
   ]
  }
 ],
 "metadata": {
  "kernelspec": {
   "display_name": "Python 3",
   "language": "python",
   "name": "python3"
  },
  "language_info": {
   "codemirror_mode": {
    "name": "ipython",
    "version": 3
   },
   "file_extension": ".py",
   "mimetype": "text/x-python",
   "name": "python",
   "nbconvert_exporter": "python",
   "pygments_lexer": "ipython3",
   "version": "3.8.10"
  },
  "orig_nbformat": 4,
  "vscode": {
   "interpreter": {
    "hash": "916dbcbb3f70747c44a77c7bcd40155683ae19c65e1c03b4aa3499c5328201f1"
   }
  }
 },
 "nbformat": 4,
 "nbformat_minor": 2
}
