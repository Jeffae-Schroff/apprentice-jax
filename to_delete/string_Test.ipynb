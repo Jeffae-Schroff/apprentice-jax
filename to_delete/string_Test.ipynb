{
 "cells": [
  {
   "cell_type": "code",
   "execution_count": 4,
   "metadata": {},
   "outputs": [
    {
     "name": "stdout",
     "output_type": "stream",
     "text": [
      "['hhh' 'abc' 'abc' 'abc' 'abc' 'bac' 'bac' 'efg' 'efg' 'abc' 'abcd'\n",
      " 'abc#aa']\n"
     ]
    }
   ],
   "source": [
    "import numpy as np\n",
    "\n",
    "\n",
    "select_obs = np.array([\"abc\", \"efg\"])\n",
    "obs_bin_weights = np.array([0.7, 0.5])\n",
    "\n",
    "\n",
    "a = np.array([\"hhh#1\", \"abc#1\", \"abc#2\", \"abc#3\", \"abc#4\", \"bac#1\", \"bac#2\", \"efg#1\", \"efg#2\", \"abc#10\", \"abcd#1\", \"abc#aa#1\"])\n",
    "obs_bin_weight = np.zeros(np.shape(a))\n",
    "position_num = np.char.find(a, \"#\")\n",
    "a_cut = np.array([sb[0] for sb in np.char.rsplit(a, \"#\", maxsplit=1)])\n",
    "\n",
    "print(a_cut)\n",
    "inv = np.array([i for i, str in enumerate(a_cut) if not str in select_obs])\n",
    "\n",
    "a = np.delete(a, inv)\n",
    "a_cut = np.delete(a_cut, inv)\n",
    "obs_bin_weight = np.delete(obs_bin_weight, inv)\n",
    "\n",
    "obs_name, counts = np.unique(a_cut, return_counts=True)\n",
    "\n",
    "to_clear = counts - np.floor(counts*obs_bin_weights)\n",
    "clear_dict = dict(zip(obs_name, to_clear))\n",
    "\n",
    "a_cut_rev = np.flip(a_cut)\n",
    "\n",
    "inv = np.array([])\n",
    "for i, str in enumerate(a_cut_rev):\n",
    "    if clear_dict[str] > 0:\n",
    "        inv = np.append(inv, i)\n",
    "        clear_dict[str] -= 1\n",
    "\n",
    "inv = np.flip(np.array([np.size(a_cut_rev) - 1 - i for i in inv])).astype(int)\n",
    "\n",
    "a_cut = np.delete(a_cut, inv)\n",
    "a = np.delete(a, inv)"
   ]
  },
  {
   "cell_type": "code",
   "execution_count": 5,
   "metadata": {},
   "outputs": [
    {
     "name": "stdout",
     "output_type": "stream",
     "text": [
      "[0.5 0.5 0.5 0.2]\n"
     ]
    }
   ],
   "source": [
    "weights = np.array([0.5, 0.2])\n",
    "obs_bin_weight = np.zeros(np.shape(a_cut))\n",
    "\n",
    "for i, weight in enumerate(weights):\n",
    "    for j, cut_id in enumerate(a_cut):\n",
    "        if cut_id == select_obs[i]:\n",
    "            obs_bin_weight[j] = weight\n",
    "\n",
    "print(obs_bin_weight)"
   ]
  },
  {
   "cell_type": "code",
   "execution_count": 2,
   "metadata": {},
   "outputs": [
    {
     "data": {
      "text/plain": [
       "6"
      ]
     },
     "execution_count": 2,
     "metadata": {},
     "output_type": "execute_result"
    }
   ],
   "source": [
    "def add(a, b, c):\n",
    "    return a+b+c\n",
    "\n",
    "\n",
    "d=1\n",
    "b=2\n",
    "c=3\n",
    "\n",
    "args = (b, c)\n",
    "\n",
    "add(d, *args)"
   ]
  }
 ],
 "metadata": {
  "kernelspec": {
   "display_name": "Python 3",
   "language": "python",
   "name": "python3"
  },
  "language_info": {
   "codemirror_mode": {
    "name": "ipython",
    "version": 3
   },
   "file_extension": ".py",
   "mimetype": "text/x-python",
   "name": "python",
   "nbconvert_exporter": "python",
   "pygments_lexer": "ipython3",
   "version": "3.8.10"
  },
  "orig_nbformat": 4
 },
 "nbformat": 4,
 "nbformat_minor": 2
}
