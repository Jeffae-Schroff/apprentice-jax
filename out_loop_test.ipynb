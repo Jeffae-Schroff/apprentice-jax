{
 "cells": [
  {
   "cell_type": "code",
   "execution_count": 19,
   "metadata": {},
   "outputs": [],
   "source": [
    "import jax.numpy as jnp\n",
    "from timing import poly_gen_D, timing_van_jax\n",
    "from out_loop import objective_func\n",
    "\n",
    "\n",
    "dummy_cov_arr = jnp.load(\"dummy_cov.npz\")\n",
    "dummy_chi2res = jnp.load(\"dummy_chi2res.npz\")\n",
    "dummy_pcoeffs = jnp.load(\"dummy_pceoffs.npz\")\n",
    "jnp.shape(dummy_chi2res)\n",
    "coeff = dict(zip((range(jnp.size(dummy_pcoeffs))), (dummy_pcoeffs[k] for k in dummy_pcoeffs)))\n",
    "cov = dict(zip((range(jnp.size(dummy_cov_arr))), (dummy_cov_arr[k] for k in dummy_cov_arr)))"
   ]
  },
  {
   "cell_type": "code",
   "execution_count": 20,
   "metadata": {},
   "outputs": [
    {
     "name": "stdout",
     "output_type": "stream",
     "text": [
      "We expect this to be high  3608.5068\n",
      "We expect this to be low  4.3565507e-13\n"
     ]
    },
    {
     "data": {
      "text/plain": [
       "40"
      ]
     },
     "execution_count": 20,
     "metadata": {},
     "output_type": "execute_result"
    }
   ],
   "source": [
    "p = jnp.array([2, 3])\n",
    "\n",
    "poly = timing_van_jax([p], 3)[0]\n",
    "\n",
    "jnp.matmul(coeff[1], poly.T)\n",
    "coeff[1]\n",
    "\n",
    "#Setting target to be something completely random, we expect the objective function to be extremely high\n",
    "target_d = range(40)\n",
    "targ_sig = jnp.ones(40)\n",
    "\n",
    "print(\"We expect this to be high \", objective_func(p, target_d, targ_sig))\n",
    "\n",
    "#Setting target to be exactly what it would be with p = 2, 3, we expect the objective function to be arbitrarily low\n",
    "target_d = jnp.matmul(jnp.array(list(coeff.values())), poly.T)\n",
    "print(\"We expect this to be low \", objective_func(p, target_d, targ_sig))\n",
    "\n",
    "jnp.size(jnp.array(list(coeff.values())), axis=0)"
   ]
  },
  {
   "cell_type": "code",
   "execution_count": 21,
   "metadata": {},
   "outputs": [
    {
     "name": "stdout",
     "output_type": "stream",
     "text": [
      "Returned parameters, we expect this to be the same as p_real  [299.99749678 480.00053822]\n",
      "Uncertainty in returned parameters, currently broken, expect this to be higher in correct versions  [6.910124e-04 7.512431e-05]\n",
      "Target distribution  [-4.1501885e+09 -1.1093762e+10  6.1360230e+08  3.7448952e+09\n",
      " -1.3400934e+10  2.7636050e+09 -2.0341055e+10 -1.0259394e+09\n",
      " -1.5658098e+10  5.1413217e+09 -7.0312059e+09  8.0410264e+07\n",
      " -4.5577994e+09  1.9528223e+09  3.3425312e+08  2.0825925e+09\n",
      "  6.5380832e+08  7.3925594e+08  3.7174941e+08  5.9552230e+08\n",
      " -7.0241500e+09  3.8048297e+09 -2.2802297e+10 -2.9366188e+10\n",
      "  4.7016894e+10  7.6632735e+09 -3.3695437e+09  1.0345909e+10\n",
      " -5.6908104e+09  2.1669012e+09  3.7736755e+09  9.1455283e+08\n",
      "  8.5443904e+08  1.6842616e+08  8.3342400e+07  2.7056820e+07\n",
      "  8.2515930e+06  2.5090695e+06 -4.1598564e+01 -8.1214439e+01]\n",
      "Distribution created from returned parameters  [[-4.15018163e+09 -1.10937836e+10  6.13652480e+08  3.74492928e+09]\n",
      " [-1.34009651e+10  2.76354022e+09 -2.03410924e+10 -1.02591565e+09]\n",
      " [-1.56581069e+10  5.14134579e+09 -7.03123610e+09  8.04005920e+07]\n",
      " [-4.55778918e+09  1.95281907e+09  3.34257088e+08  2.08258752e+09]\n",
      " [ 6.53810176e+08  7.39257216e+08  3.71749728e+08  5.95523648e+08]\n",
      " [-7.02415309e+09  3.80485632e+09 -2.28023931e+10 -2.93663068e+10]\n",
      " [ 4.70171034e+10  7.66331034e+09 -3.36955238e+09  1.03459246e+10]\n",
      " [-5.69080115e+09  2.16691200e+09  3.77369395e+09  9.14553024e+08]\n",
      " [ 8.54439168e+08  1.68426224e+08  8.33428480e+07  2.70568700e+07]\n",
      " [ 8.25154600e+06  2.50903250e+06  0.00000000e+00  0.00000000e+00]]\n"
     ]
    }
   ],
   "source": [
    "#Testing\n",
    "\n",
    "import scipy.optimize as opt\n",
    "import jax.random as random\n",
    "from jax import jacfwd, jacrev\n",
    "\n",
    "#Toy data\n",
    "p_real = jnp.array([300, 480])\n",
    "poly_real = timing_van_jax([p_real], 3)[0]\n",
    "key = random.PRNGKey(20)\n",
    "target_d_real = jnp.matmul(jnp.array(list(coeff.values())), poly_real.T) + 50*random.normal(key, shape=(40,))\n",
    "targ_sig_real = 200*jnp.ones(40)\n",
    "\n",
    "\n",
    "p_guess = jnp.array([0, 0])\n",
    "p_opt = opt.minimize(objective_func, p_guess, args=(target_d_real, targ_sig_real), method='Nelder-Mead')\n",
    "\n",
    "\n",
    "\n",
    "#Math for covariance\n",
    "def res_sq_sum(P):\n",
    "    p_poly = timing_van_jax([P], 3)[0]\n",
    "    return jnp.sum(jnp.square(jnp.matmul(jnp.array(list(coeff.values())), p_poly.T) - target_d_real))\n",
    "def Hessian(func):\n",
    "    return jacfwd(jacrev(res_sq_sum))\n",
    "p_opt_cov = jnp.linalg.inv(Hessian(res_sq_sum)(p_opt.x))*res_sq_sum(p_opt.x)/(38)\n",
    "p_opt_unc = jnp.sqrt(jnp.diagonal(p_opt_cov))\n",
    "\n",
    "\n",
    "print(\"Returned parameters, we expect this to be the same as p_real \", p_opt.x)\n",
    "print(\"Uncertainty in returned parameters, currently broken, expect this to be higher in correct versions \", p_opt_unc)\n",
    "print(\"Target distribution \", target_d_real)\n",
    "\n",
    "poly_opt = timing_van_jax([p_opt.x], 3)[0]\n",
    "print(\"Distribution created from returned parameters \", jnp.matmul(jnp.array(list(coeff.values())), poly_opt.T).reshape(10, 4)) #Reshaped for comparison with target distribution\n",
    "\n"
   ]
  }
 ],
 "metadata": {
  "kernelspec": {
   "display_name": "Python 3.8.10 64-bit",
   "language": "python",
   "name": "python3"
  },
  "language_info": {
   "codemirror_mode": {
    "name": "ipython",
    "version": 3
   },
   "file_extension": ".py",
   "mimetype": "text/x-python",
   "name": "python",
   "nbconvert_exporter": "python",
   "pygments_lexer": "ipython3",
   "version": "3.8.10"
  },
  "orig_nbformat": 4,
  "vscode": {
   "interpreter": {
    "hash": "31f2aee4e71d21fbe5cf8b01ff0e069b9275f58929596ceb00d14d90e3e16cd6"
   }
  }
 },
 "nbformat": 4,
 "nbformat_minor": 2
}
